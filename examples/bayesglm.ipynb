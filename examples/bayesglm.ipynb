{
 "cells": [
  {
   "cell_type": "markdown",
   "metadata": {},
   "source": [
    "# Bayes GLM\n",
    "\n",
    "Using new BayesGLM() class, replicates the same behavior as R's [arm::bayesglm()](https://cran.r-project.org/web/packages/arm/arm.pdf)"
   ]
  },
  {
   "cell_type": "code",
   "execution_count": null,
   "metadata": {},
   "outputs": [],
   "source": [
    "%pip install rpy2"
   ]
  },
  {
   "cell_type": "code",
   "execution_count": 9,
   "metadata": {},
   "outputs": [
    {
     "name": "stdout",
     "output_type": "stream",
     "text": [
      "The rpy2.ipython extension is already loaded. To reload it, use:\n",
      "  %reload_ext rpy2.ipython\n"
     ]
    }
   ],
   "source": [
    "%load_ext rpy2.ipython"
   ]
  },
  {
   "cell_type": "code",
   "execution_count": 10,
   "metadata": {},
   "outputs": [],
   "source": [
    "from bayesglm.bayesglm import BayesGLM\n",
    "\n",
    "import numpy as np\n",
    "import pandas as pd\n",
    "import rpy2.robjects as robjects\n",
    "from scipy.special import expit\n",
    "\n",
    "from statsmodels.genmod import families\n",
    "from statsmodels.genmod.generalized_linear_model import GLM"
   ]
  },
  {
   "cell_type": "markdown",
   "metadata": {},
   "source": [
    "## Generate Test Data Set"
   ]
  },
  {
   "cell_type": "code",
   "execution_count": 12,
   "metadata": {},
   "outputs": [
    {
     "data": {
      "text/html": [
       "<div>\n",
       "<style scoped>\n",
       "    .dataframe tbody tr th:only-of-type {\n",
       "        vertical-align: middle;\n",
       "    }\n",
       "\n",
       "    .dataframe tbody tr th {\n",
       "        vertical-align: top;\n",
       "    }\n",
       "\n",
       "    .dataframe thead th {\n",
       "        text-align: right;\n",
       "    }\n",
       "</style>\n",
       "<table border=\"1\" class=\"dataframe\">\n",
       "  <thead>\n",
       "    <tr style=\"text-align: right;\">\n",
       "      <th></th>\n",
       "      <th>y</th>\n",
       "      <th>const</th>\n",
       "      <th>x1</th>\n",
       "      <th>x2</th>\n",
       "    </tr>\n",
       "  </thead>\n",
       "  <tbody>\n",
       "    <tr>\n",
       "      <th>0</th>\n",
       "      <td>1.0</td>\n",
       "      <td>1.0</td>\n",
       "      <td>-0.204708</td>\n",
       "      <td>0.0</td>\n",
       "    </tr>\n",
       "    <tr>\n",
       "      <th>1</th>\n",
       "      <td>1.0</td>\n",
       "      <td>1.0</td>\n",
       "      <td>0.478943</td>\n",
       "      <td>0.0</td>\n",
       "    </tr>\n",
       "    <tr>\n",
       "      <th>2</th>\n",
       "      <td>0.0</td>\n",
       "      <td>1.0</td>\n",
       "      <td>-0.519439</td>\n",
       "      <td>0.0</td>\n",
       "    </tr>\n",
       "    <tr>\n",
       "      <th>3</th>\n",
       "      <td>0.0</td>\n",
       "      <td>1.0</td>\n",
       "      <td>-0.555730</td>\n",
       "      <td>0.0</td>\n",
       "    </tr>\n",
       "    <tr>\n",
       "      <th>4</th>\n",
       "      <td>1.0</td>\n",
       "      <td>1.0</td>\n",
       "      <td>1.965781</td>\n",
       "      <td>0.0</td>\n",
       "    </tr>\n",
       "  </tbody>\n",
       "</table>\n",
       "</div>"
      ],
      "text/plain": [
       "     y  const        x1   x2\n",
       "0  1.0    1.0 -0.204708  0.0\n",
       "1  1.0    1.0  0.478943  0.0\n",
       "2  0.0    1.0 -0.519439  0.0\n",
       "3  0.0    1.0 -0.555730  0.0\n",
       "4  1.0    1.0  1.965781  0.0"
      ]
     },
     "execution_count": 12,
     "metadata": {},
     "output_type": "execute_result"
    }
   ],
   "source": [
    "np.random.seed(12345)\n",
    "n = 100\n",
    "x1 = np.random.normal(size=n)\n",
    "x2 = np.random.binomial(1, 0.5, n)\n",
    "b0 = 1\n",
    "b1 = 1.5\n",
    "b2 = 2\n",
    "const = np.ones(n)\n",
    "y = np.random.binomial(1, expit(b0 + b1 * x1 + b2 * x2), n)\n",
    "X = np.transpose(np.vstack([const, x1, x2]))\n",
    "\n",
    "df = pd.DataFrame(\n",
    "    np.hstack((y.reshape(100, 1), X.reshape(100, 3))),\n",
    "    columns=[\"y\", \"const\", \"x1\", \"x2\"],\n",
    ")\n",
    "\n",
    "df.head()"
   ]
  },
  {
   "cell_type": "code",
   "execution_count": null,
   "metadata": {},
   "outputs": [],
   "source": [
    "%%R\n",
    "install.packages(c(\"arm\"))"
   ]
  },
  {
   "cell_type": "markdown",
   "metadata": {},
   "source": [
    "Pass the df generated in Python over to R, extract columns to vectors"
   ]
  },
  {
   "cell_type": "code",
   "execution_count": 14,
   "metadata": {},
   "outputs": [
    {
     "name": "stdout",
     "output_type": "stream",
     "text": [
      "  y const         x1 x2\n",
      "0 1     1 -0.2047077  0\n",
      "1 1     1  0.4789433  0\n",
      "2 0     1 -0.5194387  0\n",
      "3 0     1 -0.5557303  0\n",
      "4 1     1  1.9657806  0\n",
      "5 1     1  1.3934058  0\n"
     ]
    }
   ],
   "source": [
    "%%R -i df\n",
    "\n",
    "n <- 100\n",
    "x1 <- df$x1\n",
    "x2 <- df$x2\n",
    "y <- df$y\n",
    "\n",
    "head(df)"
   ]
  },
  {
   "cell_type": "markdown",
   "metadata": {},
   "source": [
    "Create models in R from the data generated in Python. "
   ]
  },
  {
   "cell_type": "markdown",
   "metadata": {},
   "source": [
    "## Recreate Models in R and Python\n",
    "\n",
    "The [R `arm` documentation](https://cran.r-project.org/web/packages/arm/arm.pdf) includes a few model examples that are replicated here. Where the docs compare the `arm` output to the `glm` output, this notebook compares R's implementation to the proposed Pythonic implementation where possible. Note that where the R implementation calls `arm::bayesglm`, the Pythonic implementation will call `BayesGLM(...).fit()`"
   ]
  },
  {
   "cell_type": "markdown",
   "metadata": {},
   "source": [
    "### Standard GLMs"
   ]
  },
  {
   "cell_type": "markdown",
   "metadata": {},
   "source": [
    "In R build a standard GLM, compare to a standard GLM implementation in `statsmodels`. Compare outputs between R implementation and Python implementation throughout thi example notebook. "
   ]
  },
  {
   "cell_type": "code",
   "execution_count": 15,
   "metadata": {},
   "outputs": [
    {
     "name": "stdout",
     "output_type": "stream",
     "text": [
      "glm(formula = y ~ x1 + x2, family = binomial(link = \"logit\"))\n",
      "            coef.est coef.se\n",
      "(Intercept) 1.20     0.36   \n",
      "x1          1.30     0.36   \n",
      "x2          2.12     0.76   \n",
      "---\n",
      "  n = 100, k = 3\n",
      "  residual deviance = 69.4, null deviance = 94.3 (difference = 24.9)\n"
     ]
    }
   ],
   "source": [
    "%%R\n",
    "M1 <- glm (y ~ x1 + x2, family=binomial(link=\"logit\"))\n",
    "arm::display (M1)"
   ]
  },
  {
   "cell_type": "code",
   "execution_count": 16,
   "metadata": {},
   "outputs": [
    {
     "data": {
      "text/html": [
       "<table class=\"simpletable\">\n",
       "<caption>Generalized Linear Model Regression Results</caption>\n",
       "<tr>\n",
       "  <th>Dep. Variable:</th>           <td>y</td>        <th>  No. Observations:  </th>  <td>   100</td> \n",
       "</tr>\n",
       "<tr>\n",
       "  <th>Model:</th>                  <td>GLM</td>       <th>  Df Residuals:      </th>  <td>    97</td> \n",
       "</tr>\n",
       "<tr>\n",
       "  <th>Model Family:</th>        <td>Binomial</td>     <th>  Df Model:          </th>  <td>     2</td> \n",
       "</tr>\n",
       "<tr>\n",
       "  <th>Link Function:</th>         <td>Logit</td>      <th>  Scale:             </th> <td>  1.0000</td>\n",
       "</tr>\n",
       "<tr>\n",
       "  <th>Method:</th>                <td>IRLS</td>       <th>  Log-Likelihood:    </th> <td> -34.684</td>\n",
       "</tr>\n",
       "<tr>\n",
       "  <th>Date:</th>            <td>Wed, 12 Jun 2024</td> <th>  Deviance:          </th> <td>  69.367</td>\n",
       "</tr>\n",
       "<tr>\n",
       "  <th>Time:</th>                <td>07:10:24</td>     <th>  Pearson chi2:      </th>  <td>  76.7</td> \n",
       "</tr>\n",
       "<tr>\n",
       "  <th>No. Iterations:</th>          <td>6</td>        <th>  Pseudo R-squ. (CS):</th>  <td>0.2205</td> \n",
       "</tr>\n",
       "<tr>\n",
       "  <th>Covariance Type:</th>     <td>nonrobust</td>    <th>                     </th>     <td> </td>   \n",
       "</tr>\n",
       "</table>\n",
       "<table class=\"simpletable\">\n",
       "<tr>\n",
       "    <td></td>       <th>coef</th>     <th>std err</th>      <th>z</th>      <th>P>|z|</th>  <th>[0.025</th>    <th>0.975]</th>  \n",
       "</tr>\n",
       "<tr>\n",
       "  <th>const</th> <td>    1.2002</td> <td>    0.365</td> <td>    3.289</td> <td> 0.001</td> <td>    0.485</td> <td>    1.915</td>\n",
       "</tr>\n",
       "<tr>\n",
       "  <th>x1</th>    <td>    1.2958</td> <td>    0.363</td> <td>    3.566</td> <td> 0.000</td> <td>    0.584</td> <td>    2.008</td>\n",
       "</tr>\n",
       "<tr>\n",
       "  <th>x2</th>    <td>    2.1160</td> <td>    0.758</td> <td>    2.790</td> <td> 0.005</td> <td>    0.630</td> <td>    3.602</td>\n",
       "</tr>\n",
       "</table>"
      ],
      "text/latex": [
       "\\begin{center}\n",
       "\\begin{tabular}{lclc}\n",
       "\\toprule\n",
       "\\textbf{Dep. Variable:}   &        y         & \\textbf{  No. Observations:  } &      100    \\\\\n",
       "\\textbf{Model:}           &       GLM        & \\textbf{  Df Residuals:      } &       97    \\\\\n",
       "\\textbf{Model Family:}    &     Binomial     & \\textbf{  Df Model:          } &        2    \\\\\n",
       "\\textbf{Link Function:}   &      Logit       & \\textbf{  Scale:             } &    1.0000   \\\\\n",
       "\\textbf{Method:}          &       IRLS       & \\textbf{  Log-Likelihood:    } &   -34.684   \\\\\n",
       "\\textbf{Date:}            & Wed, 12 Jun 2024 & \\textbf{  Deviance:          } &    69.367   \\\\\n",
       "\\textbf{Time:}            &     07:10:24     & \\textbf{  Pearson chi2:      } &     76.7    \\\\\n",
       "\\textbf{No. Iterations:}  &        6         & \\textbf{  Pseudo R-squ. (CS):} &   0.2205    \\\\\n",
       "\\textbf{Covariance Type:} &    nonrobust     & \\textbf{                     } &             \\\\\n",
       "\\bottomrule\n",
       "\\end{tabular}\n",
       "\\begin{tabular}{lcccccc}\n",
       "               & \\textbf{coef} & \\textbf{std err} & \\textbf{z} & \\textbf{P$> |$z$|$} & \\textbf{[0.025} & \\textbf{0.975]}  \\\\\n",
       "\\midrule\n",
       "\\textbf{const} &       1.2002  &        0.365     &     3.289  &         0.001        &        0.485    &        1.915     \\\\\n",
       "\\textbf{x1}    &       1.2958  &        0.363     &     3.566  &         0.000        &        0.584    &        2.008     \\\\\n",
       "\\textbf{x2}    &       2.1160  &        0.758     &     2.790  &         0.005        &        0.630    &        3.602     \\\\\n",
       "\\bottomrule\n",
       "\\end{tabular}\n",
       "%\\caption{Generalized Linear Model Regression Results}\n",
       "\\end{center}"
      ],
      "text/plain": [
       "<class 'statsmodels.iolib.summary.Summary'>\n",
       "\"\"\"\n",
       "                 Generalized Linear Model Regression Results                  \n",
       "==============================================================================\n",
       "Dep. Variable:                      y   No. Observations:                  100\n",
       "Model:                            GLM   Df Residuals:                       97\n",
       "Model Family:                Binomial   Df Model:                            2\n",
       "Link Function:                  Logit   Scale:                          1.0000\n",
       "Method:                          IRLS   Log-Likelihood:                -34.684\n",
       "Date:                Wed, 12 Jun 2024   Deviance:                       69.367\n",
       "Time:                        07:10:24   Pearson chi2:                     76.7\n",
       "No. Iterations:                     6   Pseudo R-squ. (CS):             0.2205\n",
       "Covariance Type:            nonrobust                                         \n",
       "==============================================================================\n",
       "                 coef    std err          z      P>|z|      [0.025      0.975]\n",
       "------------------------------------------------------------------------------\n",
       "const          1.2002      0.365      3.289      0.001       0.485       1.915\n",
       "x1             1.2958      0.363      3.566      0.000       0.584       2.008\n",
       "x2             2.1160      0.758      2.790      0.005       0.630       3.602\n",
       "==============================================================================\n",
       "\"\"\""
      ]
     },
     "execution_count": 16,
     "metadata": {},
     "output_type": "execute_result"
    }
   ],
   "source": [
    "M1 = GLM(endog=df.y, exog=df.drop(columns=\"y\"), family=families.Binomial()).fit()\n",
    "M1.summary()"
   ]
  },
  {
   "cell_type": "markdown",
   "metadata": {},
   "source": [
    "### Standard GLMs with infinite priors"
   ]
  },
  {
   "cell_type": "code",
   "execution_count": 17,
   "metadata": {},
   "outputs": [
    {
     "name": "stdout",
     "output_type": "stream",
     "text": [
      "arm::bayesglm(formula = y ~ x1 + x2, family = binomial(link = \"logit\"), \n",
      "    prior.scale = Inf, prior.df = Inf)\n",
      "            coef.est coef.se\n",
      "(Intercept) 1.20     0.36   \n",
      "x1          1.29     0.36   \n",
      "x2          2.11     0.76   \n",
      "---\n",
      "n = 100, k = 3\n",
      "residual deviance = 69.4, null deviance = 94.3 (difference = 24.9)\n"
     ]
    }
   ],
   "source": [
    "%%R\n",
    "M2 <- arm::bayesglm (y ~ x1 + x2, family=binomial(link=\"logit\"),\n",
    "prior.scale=Inf, prior.df=Inf)\n",
    "arm::display (M2) # just a test: this should be identical to classical logit"
   ]
  },
  {
   "cell_type": "code",
   "execution_count": 18,
   "metadata": {},
   "outputs": [
    {
     "data": {
      "text/html": [
       "<table class=\"simpletable\">\n",
       "<caption>Generalized Linear Model Regression Results</caption>\n",
       "<tr>\n",
       "  <th>Dep. Variable:</th>           <td>y</td>        <th>  No. Observations:  </th>  <td>   100</td> \n",
       "</tr>\n",
       "<tr>\n",
       "  <th>Model:</th>               <td>BayesGLM</td>     <th>  Df Residuals:      </th>  <td>    97</td> \n",
       "</tr>\n",
       "<tr>\n",
       "  <th>Model Family:</th>        <td>Binomial</td>     <th>  Df Model:          </th>  <td>     2</td> \n",
       "</tr>\n",
       "<tr>\n",
       "  <th>Link Function:</th>         <td>Logit</td>      <th>  Scale:             </th> <td>  1.0000</td>\n",
       "</tr>\n",
       "<tr>\n",
       "  <th>Method:</th>                <td>BIRLS</td>      <th>  Log-Likelihood:    </th> <td> -34.684</td>\n",
       "</tr>\n",
       "<tr>\n",
       "  <th>Date:</th>            <td>Wed, 12 Jun 2024</td> <th>  Deviance:          </th> <td>  69.367</td>\n",
       "</tr>\n",
       "<tr>\n",
       "  <th>Time:</th>                <td>07:10:24</td>     <th>  Pearson chi2:      </th>  <td>  76.6</td> \n",
       "</tr>\n",
       "<tr>\n",
       "  <th>No. Iterations:</th>          <td>6</td>        <th>  Pseudo R-squ. (CS):</th>  <td>0.2205</td> \n",
       "</tr>\n",
       "<tr>\n",
       "  <th>Covariance Type:</th>     <td>nonrobust</td>    <th>                     </th>     <td> </td>   \n",
       "</tr>\n",
       "</table>\n",
       "<table class=\"simpletable\">\n",
       "<tr>\n",
       "    <td></td>       <th>coef</th>     <th>std err</th>      <th>z</th>      <th>P>|z|</th>  <th>[0.025</th>    <th>0.975]</th>  \n",
       "</tr>\n",
       "<tr>\n",
       "  <th>const</th> <td>    1.1982</td> <td>    0.364</td> <td>    3.288</td> <td> 0.001</td> <td>    0.484</td> <td>    1.913</td>\n",
       "</tr>\n",
       "<tr>\n",
       "  <th>x1</th>    <td>    1.2941</td> <td>    0.363</td> <td>    3.566</td> <td> 0.000</td> <td>    0.583</td> <td>    2.005</td>\n",
       "</tr>\n",
       "<tr>\n",
       "  <th>x2</th>    <td>    2.1127</td> <td>    0.757</td> <td>    2.790</td> <td> 0.005</td> <td>    0.629</td> <td>    3.597</td>\n",
       "</tr>\n",
       "</table>"
      ],
      "text/latex": [
       "\\begin{center}\n",
       "\\begin{tabular}{lclc}\n",
       "\\toprule\n",
       "\\textbf{Dep. Variable:}   &        y         & \\textbf{  No. Observations:  } &      100    \\\\\n",
       "\\textbf{Model:}           &     BayesGLM     & \\textbf{  Df Residuals:      } &       97    \\\\\n",
       "\\textbf{Model Family:}    &     Binomial     & \\textbf{  Df Model:          } &        2    \\\\\n",
       "\\textbf{Link Function:}   &      Logit       & \\textbf{  Scale:             } &    1.0000   \\\\\n",
       "\\textbf{Method:}          &      BIRLS       & \\textbf{  Log-Likelihood:    } &   -34.684   \\\\\n",
       "\\textbf{Date:}            & Wed, 12 Jun 2024 & \\textbf{  Deviance:          } &    69.367   \\\\\n",
       "\\textbf{Time:}            &     07:10:24     & \\textbf{  Pearson chi2:      } &     76.6    \\\\\n",
       "\\textbf{No. Iterations:}  &        6         & \\textbf{  Pseudo R-squ. (CS):} &   0.2205    \\\\\n",
       "\\textbf{Covariance Type:} &    nonrobust     & \\textbf{                     } &             \\\\\n",
       "\\bottomrule\n",
       "\\end{tabular}\n",
       "\\begin{tabular}{lcccccc}\n",
       "               & \\textbf{coef} & \\textbf{std err} & \\textbf{z} & \\textbf{P$> |$z$|$} & \\textbf{[0.025} & \\textbf{0.975]}  \\\\\n",
       "\\midrule\n",
       "\\textbf{const} &       1.1982  &        0.364     &     3.288  &         0.001        &        0.484    &        1.913     \\\\\n",
       "\\textbf{x1}    &       1.2941  &        0.363     &     3.566  &         0.000        &        0.583    &        2.005     \\\\\n",
       "\\textbf{x2}    &       2.1127  &        0.757     &     2.790  &         0.005        &        0.629    &        3.597     \\\\\n",
       "\\bottomrule\n",
       "\\end{tabular}\n",
       "%\\caption{Generalized Linear Model Regression Results}\n",
       "\\end{center}"
      ],
      "text/plain": [
       "<class 'statsmodels.iolib.summary.Summary'>\n",
       "\"\"\"\n",
       "                 Generalized Linear Model Regression Results                  \n",
       "==============================================================================\n",
       "Dep. Variable:                      y   No. Observations:                  100\n",
       "Model:                       BayesGLM   Df Residuals:                       97\n",
       "Model Family:                Binomial   Df Model:                            2\n",
       "Link Function:                  Logit   Scale:                          1.0000\n",
       "Method:                         BIRLS   Log-Likelihood:                -34.684\n",
       "Date:                Wed, 12 Jun 2024   Deviance:                       69.367\n",
       "Time:                        07:10:24   Pearson chi2:                     76.6\n",
       "No. Iterations:                     6   Pseudo R-squ. (CS):             0.2205\n",
       "Covariance Type:            nonrobust                                         \n",
       "==============================================================================\n",
       "                 coef    std err          z      P>|z|      [0.025      0.975]\n",
       "------------------------------------------------------------------------------\n",
       "const          1.1982      0.364      3.288      0.001       0.484       1.913\n",
       "x1             1.2941      0.363      3.566      0.000       0.583       2.005\n",
       "x2             2.1127      0.757      2.790      0.005       0.629       3.597\n",
       "==============================================================================\n",
       "\"\"\""
      ]
     },
     "execution_count": 18,
     "metadata": {},
     "output_type": "execute_result"
    }
   ],
   "source": [
    "M2 = BayesGLM(endog=df.y, exog=df.drop(columns=\"y\"), family=families.Binomial()).fit(\n",
    "    prior_scale=np.inf, prior_df=np.inf\n",
    ")\n",
    "M2.summary()"
   ]
  },
  {
   "cell_type": "markdown",
   "metadata": {},
   "source": [
    "### BGLM default cauchy prior scale 2.5"
   ]
  },
  {
   "cell_type": "code",
   "execution_count": 19,
   "metadata": {},
   "outputs": [
    {
     "name": "stdout",
     "output_type": "stream",
     "text": [
      "arm::bayesglm(formula = y ~ x1 + x2, family = binomial(link = \"logit\"))\n",
      "            coef.est coef.se\n",
      "(Intercept) 1.20     0.35   \n",
      "x1          1.17     0.33   \n",
      "x2          1.85     0.68   \n",
      "---\n",
      "n = 100, k = 3\n",
      "residual deviance = 69.6, null deviance = 94.3 (difference = 24.7)\n"
     ]
    }
   ],
   "source": [
    "%%R\n",
    "M3 <- arm::bayesglm (y ~ x1 + x2, family=binomial(link=\"logit\"))\n",
    "# default Cauchy prior with scale 2.5\n",
    "arm::display (M3)"
   ]
  },
  {
   "cell_type": "code",
   "execution_count": 20,
   "metadata": {},
   "outputs": [
    {
     "data": {
      "text/html": [
       "<table class=\"simpletable\">\n",
       "<caption>Generalized Linear Model Regression Results</caption>\n",
       "<tr>\n",
       "  <th>Dep. Variable:</th>           <td>y</td>        <th>  No. Observations:  </th>  <td>   100</td> \n",
       "</tr>\n",
       "<tr>\n",
       "  <th>Model:</th>               <td>BayesGLM</td>     <th>  Df Residuals:      </th>  <td>    97</td> \n",
       "</tr>\n",
       "<tr>\n",
       "  <th>Model Family:</th>        <td>Binomial</td>     <th>  Df Model:          </th>  <td>     2</td> \n",
       "</tr>\n",
       "<tr>\n",
       "  <th>Link Function:</th>         <td>Logit</td>      <th>  Scale:             </th> <td>  1.0000</td>\n",
       "</tr>\n",
       "<tr>\n",
       "  <th>Method:</th>                <td>BIRLS</td>      <th>  Log-Likelihood:    </th> <td> -34.783</td>\n",
       "</tr>\n",
       "<tr>\n",
       "  <th>Date:</th>            <td>Wed, 12 Jun 2024</td> <th>  Deviance:          </th> <td>  69.566</td>\n",
       "</tr>\n",
       "<tr>\n",
       "  <th>Time:</th>                <td>07:10:24</td>     <th>  Pearson chi2:      </th>  <td>  72.5</td> \n",
       "</tr>\n",
       "<tr>\n",
       "  <th>No. Iterations:</th>         <td>12</td>        <th>  Pseudo R-squ. (CS):</th>  <td>0.2190</td> \n",
       "</tr>\n",
       "<tr>\n",
       "  <th>Covariance Type:</th>     <td>nonrobust</td>    <th>                     </th>     <td> </td>   \n",
       "</tr>\n",
       "</table>\n",
       "<table class=\"simpletable\">\n",
       "<tr>\n",
       "    <td></td>       <th>coef</th>     <th>std err</th>      <th>z</th>      <th>P>|z|</th>  <th>[0.025</th>    <th>0.975]</th>  \n",
       "</tr>\n",
       "<tr>\n",
       "  <th>const</th> <td>    1.2029</td> <td>    0.354</td> <td>    3.401</td> <td> 0.001</td> <td>    0.510</td> <td>    1.896</td>\n",
       "</tr>\n",
       "<tr>\n",
       "  <th>x1</th>    <td>    1.1667</td> <td>    0.327</td> <td>    3.564</td> <td> 0.000</td> <td>    0.525</td> <td>    1.808</td>\n",
       "</tr>\n",
       "<tr>\n",
       "  <th>x2</th>    <td>    1.8542</td> <td>    0.678</td> <td>    2.737</td> <td> 0.006</td> <td>    0.526</td> <td>    3.182</td>\n",
       "</tr>\n",
       "</table>"
      ],
      "text/latex": [
       "\\begin{center}\n",
       "\\begin{tabular}{lclc}\n",
       "\\toprule\n",
       "\\textbf{Dep. Variable:}   &        y         & \\textbf{  No. Observations:  } &      100    \\\\\n",
       "\\textbf{Model:}           &     BayesGLM     & \\textbf{  Df Residuals:      } &       97    \\\\\n",
       "\\textbf{Model Family:}    &     Binomial     & \\textbf{  Df Model:          } &        2    \\\\\n",
       "\\textbf{Link Function:}   &      Logit       & \\textbf{  Scale:             } &    1.0000   \\\\\n",
       "\\textbf{Method:}          &      BIRLS       & \\textbf{  Log-Likelihood:    } &   -34.783   \\\\\n",
       "\\textbf{Date:}            & Wed, 12 Jun 2024 & \\textbf{  Deviance:          } &    69.566   \\\\\n",
       "\\textbf{Time:}            &     07:10:24     & \\textbf{  Pearson chi2:      } &     72.5    \\\\\n",
       "\\textbf{No. Iterations:}  &        12        & \\textbf{  Pseudo R-squ. (CS):} &   0.2190    \\\\\n",
       "\\textbf{Covariance Type:} &    nonrobust     & \\textbf{                     } &             \\\\\n",
       "\\bottomrule\n",
       "\\end{tabular}\n",
       "\\begin{tabular}{lcccccc}\n",
       "               & \\textbf{coef} & \\textbf{std err} & \\textbf{z} & \\textbf{P$> |$z$|$} & \\textbf{[0.025} & \\textbf{0.975]}  \\\\\n",
       "\\midrule\n",
       "\\textbf{const} &       1.2029  &        0.354     &     3.401  &         0.001        &        0.510    &        1.896     \\\\\n",
       "\\textbf{x1}    &       1.1667  &        0.327     &     3.564  &         0.000        &        0.525    &        1.808     \\\\\n",
       "\\textbf{x2}    &       1.8542  &        0.678     &     2.737  &         0.006        &        0.526    &        3.182     \\\\\n",
       "\\bottomrule\n",
       "\\end{tabular}\n",
       "%\\caption{Generalized Linear Model Regression Results}\n",
       "\\end{center}"
      ],
      "text/plain": [
       "<class 'statsmodels.iolib.summary.Summary'>\n",
       "\"\"\"\n",
       "                 Generalized Linear Model Regression Results                  \n",
       "==============================================================================\n",
       "Dep. Variable:                      y   No. Observations:                  100\n",
       "Model:                       BayesGLM   Df Residuals:                       97\n",
       "Model Family:                Binomial   Df Model:                            2\n",
       "Link Function:                  Logit   Scale:                          1.0000\n",
       "Method:                         BIRLS   Log-Likelihood:                -34.783\n",
       "Date:                Wed, 12 Jun 2024   Deviance:                       69.566\n",
       "Time:                        07:10:24   Pearson chi2:                     72.5\n",
       "No. Iterations:                    12   Pseudo R-squ. (CS):             0.2190\n",
       "Covariance Type:            nonrobust                                         \n",
       "==============================================================================\n",
       "                 coef    std err          z      P>|z|      [0.025      0.975]\n",
       "------------------------------------------------------------------------------\n",
       "const          1.2029      0.354      3.401      0.001       0.510       1.896\n",
       "x1             1.1667      0.327      3.564      0.000       0.525       1.808\n",
       "x2             1.8542      0.678      2.737      0.006       0.526       3.182\n",
       "==============================================================================\n",
       "\"\"\""
      ]
     },
     "execution_count": 20,
     "metadata": {},
     "output_type": "execute_result"
    }
   ],
   "source": [
    "M3 = BayesGLM(endog=df.y, exog=df.drop(columns=\"y\"), family=families.Binomial()).fit()\n",
    "M3.summary()"
   ]
  },
  {
   "cell_type": "markdown",
   "metadata": {},
   "source": [
    "### BGLM explicitly specify Cauchy prior, scale 2.5"
   ]
  },
  {
   "cell_type": "code",
   "execution_count": 21,
   "metadata": {},
   "outputs": [
    {
     "name": "stdout",
     "output_type": "stream",
     "text": [
      "arm::bayesglm(formula = y ~ x1 + x2, family = binomial(link = \"logit\"), \n",
      "    prior.scale = 2.5, prior.df = 1)\n",
      "            coef.est coef.se\n",
      "(Intercept) 1.20     0.35   \n",
      "x1          1.17     0.33   \n",
      "x2          1.85     0.68   \n",
      "---\n",
      "n = 100, k = 3\n",
      "residual deviance = 69.6, null deviance = 94.3 (difference = 24.7)\n"
     ]
    }
   ],
   "source": [
    "%%R\n",
    "M4 <- arm::bayesglm (y ~ x1 + x2, family=binomial(link=\"logit\"),\n",
    "prior.scale=2.5, prior.df=1)\n",
    "# Same as M3, explicitly specifying Cauchy prior with scale 2.5\n",
    "arm::display (M4)"
   ]
  },
  {
   "cell_type": "code",
   "execution_count": 22,
   "metadata": {},
   "outputs": [
    {
     "data": {
      "text/html": [
       "<table class=\"simpletable\">\n",
       "<caption>Generalized Linear Model Regression Results</caption>\n",
       "<tr>\n",
       "  <th>Dep. Variable:</th>           <td>y</td>        <th>  No. Observations:  </th>  <td>   100</td> \n",
       "</tr>\n",
       "<tr>\n",
       "  <th>Model:</th>               <td>BayesGLM</td>     <th>  Df Residuals:      </th>  <td>    97</td> \n",
       "</tr>\n",
       "<tr>\n",
       "  <th>Model Family:</th>        <td>Binomial</td>     <th>  Df Model:          </th>  <td>     2</td> \n",
       "</tr>\n",
       "<tr>\n",
       "  <th>Link Function:</th>         <td>Logit</td>      <th>  Scale:             </th> <td>  1.0000</td>\n",
       "</tr>\n",
       "<tr>\n",
       "  <th>Method:</th>                <td>BIRLS</td>      <th>  Log-Likelihood:    </th> <td> -34.783</td>\n",
       "</tr>\n",
       "<tr>\n",
       "  <th>Date:</th>            <td>Wed, 12 Jun 2024</td> <th>  Deviance:          </th> <td>  69.566</td>\n",
       "</tr>\n",
       "<tr>\n",
       "  <th>Time:</th>                <td>07:10:24</td>     <th>  Pearson chi2:      </th>  <td>  72.5</td> \n",
       "</tr>\n",
       "<tr>\n",
       "  <th>No. Iterations:</th>         <td>12</td>        <th>  Pseudo R-squ. (CS):</th>  <td>0.2190</td> \n",
       "</tr>\n",
       "<tr>\n",
       "  <th>Covariance Type:</th>     <td>nonrobust</td>    <th>                     </th>     <td> </td>   \n",
       "</tr>\n",
       "</table>\n",
       "<table class=\"simpletable\">\n",
       "<tr>\n",
       "    <td></td>       <th>coef</th>     <th>std err</th>      <th>z</th>      <th>P>|z|</th>  <th>[0.025</th>    <th>0.975]</th>  \n",
       "</tr>\n",
       "<tr>\n",
       "  <th>const</th> <td>    1.2029</td> <td>    0.354</td> <td>    3.401</td> <td> 0.001</td> <td>    0.510</td> <td>    1.896</td>\n",
       "</tr>\n",
       "<tr>\n",
       "  <th>x1</th>    <td>    1.1667</td> <td>    0.327</td> <td>    3.564</td> <td> 0.000</td> <td>    0.525</td> <td>    1.808</td>\n",
       "</tr>\n",
       "<tr>\n",
       "  <th>x2</th>    <td>    1.8542</td> <td>    0.678</td> <td>    2.737</td> <td> 0.006</td> <td>    0.526</td> <td>    3.182</td>\n",
       "</tr>\n",
       "</table>"
      ],
      "text/latex": [
       "\\begin{center}\n",
       "\\begin{tabular}{lclc}\n",
       "\\toprule\n",
       "\\textbf{Dep. Variable:}   &        y         & \\textbf{  No. Observations:  } &      100    \\\\\n",
       "\\textbf{Model:}           &     BayesGLM     & \\textbf{  Df Residuals:      } &       97    \\\\\n",
       "\\textbf{Model Family:}    &     Binomial     & \\textbf{  Df Model:          } &        2    \\\\\n",
       "\\textbf{Link Function:}   &      Logit       & \\textbf{  Scale:             } &    1.0000   \\\\\n",
       "\\textbf{Method:}          &      BIRLS       & \\textbf{  Log-Likelihood:    } &   -34.783   \\\\\n",
       "\\textbf{Date:}            & Wed, 12 Jun 2024 & \\textbf{  Deviance:          } &    69.566   \\\\\n",
       "\\textbf{Time:}            &     07:10:24     & \\textbf{  Pearson chi2:      } &     72.5    \\\\\n",
       "\\textbf{No. Iterations:}  &        12        & \\textbf{  Pseudo R-squ. (CS):} &   0.2190    \\\\\n",
       "\\textbf{Covariance Type:} &    nonrobust     & \\textbf{                     } &             \\\\\n",
       "\\bottomrule\n",
       "\\end{tabular}\n",
       "\\begin{tabular}{lcccccc}\n",
       "               & \\textbf{coef} & \\textbf{std err} & \\textbf{z} & \\textbf{P$> |$z$|$} & \\textbf{[0.025} & \\textbf{0.975]}  \\\\\n",
       "\\midrule\n",
       "\\textbf{const} &       1.2029  &        0.354     &     3.401  &         0.001        &        0.510    &        1.896     \\\\\n",
       "\\textbf{x1}    &       1.1667  &        0.327     &     3.564  &         0.000        &        0.525    &        1.808     \\\\\n",
       "\\textbf{x2}    &       1.8542  &        0.678     &     2.737  &         0.006        &        0.526    &        3.182     \\\\\n",
       "\\bottomrule\n",
       "\\end{tabular}\n",
       "%\\caption{Generalized Linear Model Regression Results}\n",
       "\\end{center}"
      ],
      "text/plain": [
       "<class 'statsmodels.iolib.summary.Summary'>\n",
       "\"\"\"\n",
       "                 Generalized Linear Model Regression Results                  \n",
       "==============================================================================\n",
       "Dep. Variable:                      y   No. Observations:                  100\n",
       "Model:                       BayesGLM   Df Residuals:                       97\n",
       "Model Family:                Binomial   Df Model:                            2\n",
       "Link Function:                  Logit   Scale:                          1.0000\n",
       "Method:                         BIRLS   Log-Likelihood:                -34.783\n",
       "Date:                Wed, 12 Jun 2024   Deviance:                       69.566\n",
       "Time:                        07:10:24   Pearson chi2:                     72.5\n",
       "No. Iterations:                    12   Pseudo R-squ. (CS):             0.2190\n",
       "Covariance Type:            nonrobust                                         \n",
       "==============================================================================\n",
       "                 coef    std err          z      P>|z|      [0.025      0.975]\n",
       "------------------------------------------------------------------------------\n",
       "const          1.2029      0.354      3.401      0.001       0.510       1.896\n",
       "x1             1.1667      0.327      3.564      0.000       0.525       1.808\n",
       "x2             1.8542      0.678      2.737      0.006       0.526       3.182\n",
       "==============================================================================\n",
       "\"\"\""
      ]
     },
     "execution_count": 22,
     "metadata": {},
     "output_type": "execute_result"
    }
   ],
   "source": [
    "M4 = BayesGLM(endog=df.y, exog=df.drop(columns=\"y\"), family=families.Binomial()).fit(\n",
    "    prior_scale=2.5, prior_df=1\n",
    ")\n",
    "M4.summary()"
   ]
  },
  {
   "cell_type": "markdown",
   "metadata": {},
   "source": [
    "### BGLM explicitly specify Cauchy prior, scale 2.5 and t7"
   ]
  },
  {
   "cell_type": "code",
   "execution_count": 23,
   "metadata": {},
   "outputs": [
    {
     "name": "stdout",
     "output_type": "stream",
     "text": [
      "arm::bayesglm(formula = y ~ x1 + x2, family = binomial(link = \"logit\"), \n",
      "    prior.scale = 2.5, prior.df = 7)\n",
      "            coef.est coef.se\n",
      "(Intercept) 1.20     0.35   \n",
      "x1          1.17     0.33   \n",
      "x2          1.88     0.69   \n"
     ]
    },
    {
     "name": "stdout",
     "output_type": "stream",
     "text": [
      "---\n",
      "n = 100, k = 3\n",
      "residual deviance = 69.5, null deviance = 94.3 (difference = 24.7)\n"
     ]
    }
   ],
   "source": [
    "%%R\n",
    "M5 <- arm::bayesglm (y ~ x1 + x2, family=binomial(link=\"logit\"),\n",
    "prior.scale=2.5, prior.df=7) # t_7 prior with scale 2.5\n",
    "arm::display (M5)"
   ]
  },
  {
   "cell_type": "code",
   "execution_count": 24,
   "metadata": {},
   "outputs": [
    {
     "data": {
      "text/html": [
       "<table class=\"simpletable\">\n",
       "<caption>Generalized Linear Model Regression Results</caption>\n",
       "<tr>\n",
       "  <th>Dep. Variable:</th>           <td>y</td>        <th>  No. Observations:  </th>  <td>   100</td> \n",
       "</tr>\n",
       "<tr>\n",
       "  <th>Model:</th>               <td>BayesGLM</td>     <th>  Df Residuals:      </th>  <td>    97</td> \n",
       "</tr>\n",
       "<tr>\n",
       "  <th>Model Family:</th>        <td>Binomial</td>     <th>  Df Model:          </th>  <td>     2</td> \n",
       "</tr>\n",
       "<tr>\n",
       "  <th>Link Function:</th>         <td>Logit</td>      <th>  Scale:             </th> <td>  1.0000</td>\n",
       "</tr>\n",
       "<tr>\n",
       "  <th>Method:</th>                <td>BIRLS</td>      <th>  Log-Likelihood:    </th> <td> -34.772</td>\n",
       "</tr>\n",
       "<tr>\n",
       "  <th>Date:</th>            <td>Wed, 12 Jun 2024</td> <th>  Deviance:          </th> <td>  69.544</td>\n",
       "</tr>\n",
       "<tr>\n",
       "  <th>Time:</th>                <td>07:10:24</td>     <th>  Pearson chi2:      </th>  <td>  72.8</td> \n",
       "</tr>\n",
       "<tr>\n",
       "  <th>No. Iterations:</th>          <td>9</td>        <th>  Pseudo R-squ. (CS):</th>  <td>0.2191</td> \n",
       "</tr>\n",
       "<tr>\n",
       "  <th>Covariance Type:</th>     <td>nonrobust</td>    <th>                     </th>     <td> </td>   \n",
       "</tr>\n",
       "</table>\n",
       "<table class=\"simpletable\">\n",
       "<tr>\n",
       "    <td></td>       <th>coef</th>     <th>std err</th>      <th>z</th>      <th>P>|z|</th>  <th>[0.025</th>    <th>0.975]</th>  \n",
       "</tr>\n",
       "<tr>\n",
       "  <th>const</th> <td>    1.1977</td> <td>    0.354</td> <td>    3.385</td> <td> 0.001</td> <td>    0.504</td> <td>    1.891</td>\n",
       "</tr>\n",
       "<tr>\n",
       "  <th>x1</th>    <td>    1.1692</td> <td>    0.328</td> <td>    3.565</td> <td> 0.000</td> <td>    0.526</td> <td>    1.812</td>\n",
       "</tr>\n",
       "<tr>\n",
       "  <th>x2</th>    <td>    1.8796</td> <td>    0.686</td> <td>    2.742</td> <td> 0.006</td> <td>    0.536</td> <td>    3.223</td>\n",
       "</tr>\n",
       "</table>"
      ],
      "text/latex": [
       "\\begin{center}\n",
       "\\begin{tabular}{lclc}\n",
       "\\toprule\n",
       "\\textbf{Dep. Variable:}   &        y         & \\textbf{  No. Observations:  } &      100    \\\\\n",
       "\\textbf{Model:}           &     BayesGLM     & \\textbf{  Df Residuals:      } &       97    \\\\\n",
       "\\textbf{Model Family:}    &     Binomial     & \\textbf{  Df Model:          } &        2    \\\\\n",
       "\\textbf{Link Function:}   &      Logit       & \\textbf{  Scale:             } &    1.0000   \\\\\n",
       "\\textbf{Method:}          &      BIRLS       & \\textbf{  Log-Likelihood:    } &   -34.772   \\\\\n",
       "\\textbf{Date:}            & Wed, 12 Jun 2024 & \\textbf{  Deviance:          } &    69.544   \\\\\n",
       "\\textbf{Time:}            &     07:10:24     & \\textbf{  Pearson chi2:      } &     72.8    \\\\\n",
       "\\textbf{No. Iterations:}  &        9         & \\textbf{  Pseudo R-squ. (CS):} &   0.2191    \\\\\n",
       "\\textbf{Covariance Type:} &    nonrobust     & \\textbf{                     } &             \\\\\n",
       "\\bottomrule\n",
       "\\end{tabular}\n",
       "\\begin{tabular}{lcccccc}\n",
       "               & \\textbf{coef} & \\textbf{std err} & \\textbf{z} & \\textbf{P$> |$z$|$} & \\textbf{[0.025} & \\textbf{0.975]}  \\\\\n",
       "\\midrule\n",
       "\\textbf{const} &       1.1977  &        0.354     &     3.385  &         0.001        &        0.504    &        1.891     \\\\\n",
       "\\textbf{x1}    &       1.1692  &        0.328     &     3.565  &         0.000        &        0.526    &        1.812     \\\\\n",
       "\\textbf{x2}    &       1.8796  &        0.686     &     2.742  &         0.006        &        0.536    &        3.223     \\\\\n",
       "\\bottomrule\n",
       "\\end{tabular}\n",
       "%\\caption{Generalized Linear Model Regression Results}\n",
       "\\end{center}"
      ],
      "text/plain": [
       "<class 'statsmodels.iolib.summary.Summary'>\n",
       "\"\"\"\n",
       "                 Generalized Linear Model Regression Results                  \n",
       "==============================================================================\n",
       "Dep. Variable:                      y   No. Observations:                  100\n",
       "Model:                       BayesGLM   Df Residuals:                       97\n",
       "Model Family:                Binomial   Df Model:                            2\n",
       "Link Function:                  Logit   Scale:                          1.0000\n",
       "Method:                         BIRLS   Log-Likelihood:                -34.772\n",
       "Date:                Wed, 12 Jun 2024   Deviance:                       69.544\n",
       "Time:                        07:10:24   Pearson chi2:                     72.8\n",
       "No. Iterations:                     9   Pseudo R-squ. (CS):             0.2191\n",
       "Covariance Type:            nonrobust                                         \n",
       "==============================================================================\n",
       "                 coef    std err          z      P>|z|      [0.025      0.975]\n",
       "------------------------------------------------------------------------------\n",
       "const          1.1977      0.354      3.385      0.001       0.504       1.891\n",
       "x1             1.1692      0.328      3.565      0.000       0.526       1.812\n",
       "x2             1.8796      0.686      2.742      0.006       0.536       3.223\n",
       "==============================================================================\n",
       "\"\"\""
      ]
     },
     "execution_count": 24,
     "metadata": {},
     "output_type": "execute_result"
    }
   ],
   "source": [
    "M5 = BayesGLM(endog=df.y, exog=df.drop(columns=\"y\"), family=families.Binomial()).fit(\n",
    "    prior_scale=2.5, prior_df=7\n",
    ")\n",
    "M5.summary()"
   ]
  },
  {
   "cell_type": "markdown",
   "metadata": {},
   "source": [
    "### BGLM explicitly specify normal prior with scale 2.5"
   ]
  },
  {
   "cell_type": "code",
   "execution_count": 25,
   "metadata": {},
   "outputs": [
    {
     "name": "stdout",
     "output_type": "stream",
     "text": [
      "arm::bayesglm(formula = y ~ x1 + x2, family = binomial(link = \"logit\"), \n",
      "    prior.scale = 2.5, prior.df = Inf)\n",
      "            coef.est coef.se\n",
      "(Intercept) 1.20     0.35   \n",
      "x1          1.17     0.33   \n",
      "x2          1.89     0.69   \n",
      "---\n",
      "n = 100, k = 3\n",
      "residual deviance = 69.5, null deviance = 94.3 (difference = 24.7)\n"
     ]
    }
   ],
   "source": [
    "%%R\n",
    "M6 <- arm::bayesglm (y ~ x1 + x2, family=binomial(link=\"logit\"),\n",
    "prior.scale=2.5, prior.df=Inf) # normal prior with scale 2.5\n",
    "arm::display (M6)"
   ]
  },
  {
   "cell_type": "code",
   "execution_count": 26,
   "metadata": {},
   "outputs": [
    {
     "data": {
      "text/html": [
       "<table class=\"simpletable\">\n",
       "<caption>Generalized Linear Model Regression Results</caption>\n",
       "<tr>\n",
       "  <th>Dep. Variable:</th>           <td>y</td>        <th>  No. Observations:  </th>  <td>   100</td> \n",
       "</tr>\n",
       "<tr>\n",
       "  <th>Model:</th>               <td>BayesGLM</td>     <th>  Df Residuals:      </th>  <td>    97</td> \n",
       "</tr>\n",
       "<tr>\n",
       "  <th>Model Family:</th>        <td>Binomial</td>     <th>  Df Model:          </th>  <td>     2</td> \n",
       "</tr>\n",
       "<tr>\n",
       "  <th>Link Function:</th>         <td>Logit</td>      <th>  Scale:             </th> <td>  1.0000</td>\n",
       "</tr>\n",
       "<tr>\n",
       "  <th>Method:</th>                <td>BIRLS</td>      <th>  Log-Likelihood:    </th> <td> -34.768</td>\n",
       "</tr>\n",
       "<tr>\n",
       "  <th>Date:</th>            <td>Wed, 12 Jun 2024</td> <th>  Deviance:          </th> <td>  69.535</td>\n",
       "</tr>\n",
       "<tr>\n",
       "  <th>Time:</th>                <td>07:10:25</td>     <th>  Pearson chi2:      </th>  <td>  73.0</td> \n",
       "</tr>\n",
       "<tr>\n",
       "  <th>No. Iterations:</th>          <td>6</td>        <th>  Pseudo R-squ. (CS):</th>  <td>0.2192</td> \n",
       "</tr>\n",
       "<tr>\n",
       "  <th>Covariance Type:</th>     <td>nonrobust</td>    <th>                     </th>     <td> </td>   \n",
       "</tr>\n",
       "</table>\n",
       "<table class=\"simpletable\">\n",
       "<tr>\n",
       "    <td></td>       <th>coef</th>     <th>std err</th>      <th>z</th>      <th>P>|z|</th>  <th>[0.025</th>    <th>0.975]</th>  \n",
       "</tr>\n",
       "<tr>\n",
       "  <th>const</th> <td>    1.1980</td> <td>    0.354</td> <td>    3.383</td> <td> 0.001</td> <td>    0.504</td> <td>    1.892</td>\n",
       "</tr>\n",
       "<tr>\n",
       "  <th>x1</th>    <td>    1.1710</td> <td>    0.328</td> <td>    3.566</td> <td> 0.000</td> <td>    0.527</td> <td>    1.815</td>\n",
       "</tr>\n",
       "<tr>\n",
       "  <th>x2</th>    <td>    1.8884</td> <td>    0.688</td> <td>    2.743</td> <td> 0.006</td> <td>    0.539</td> <td>    3.237</td>\n",
       "</tr>\n",
       "</table>"
      ],
      "text/latex": [
       "\\begin{center}\n",
       "\\begin{tabular}{lclc}\n",
       "\\toprule\n",
       "\\textbf{Dep. Variable:}   &        y         & \\textbf{  No. Observations:  } &      100    \\\\\n",
       "\\textbf{Model:}           &     BayesGLM     & \\textbf{  Df Residuals:      } &       97    \\\\\n",
       "\\textbf{Model Family:}    &     Binomial     & \\textbf{  Df Model:          } &        2    \\\\\n",
       "\\textbf{Link Function:}   &      Logit       & \\textbf{  Scale:             } &    1.0000   \\\\\n",
       "\\textbf{Method:}          &      BIRLS       & \\textbf{  Log-Likelihood:    } &   -34.768   \\\\\n",
       "\\textbf{Date:}            & Wed, 12 Jun 2024 & \\textbf{  Deviance:          } &    69.535   \\\\\n",
       "\\textbf{Time:}            &     07:10:25     & \\textbf{  Pearson chi2:      } &     73.0    \\\\\n",
       "\\textbf{No. Iterations:}  &        6         & \\textbf{  Pseudo R-squ. (CS):} &   0.2192    \\\\\n",
       "\\textbf{Covariance Type:} &    nonrobust     & \\textbf{                     } &             \\\\\n",
       "\\bottomrule\n",
       "\\end{tabular}\n",
       "\\begin{tabular}{lcccccc}\n",
       "               & \\textbf{coef} & \\textbf{std err} & \\textbf{z} & \\textbf{P$> |$z$|$} & \\textbf{[0.025} & \\textbf{0.975]}  \\\\\n",
       "\\midrule\n",
       "\\textbf{const} &       1.1980  &        0.354     &     3.383  &         0.001        &        0.504    &        1.892     \\\\\n",
       "\\textbf{x1}    &       1.1710  &        0.328     &     3.566  &         0.000        &        0.527    &        1.815     \\\\\n",
       "\\textbf{x2}    &       1.8884  &        0.688     &     2.743  &         0.006        &        0.539    &        3.237     \\\\\n",
       "\\bottomrule\n",
       "\\end{tabular}\n",
       "%\\caption{Generalized Linear Model Regression Results}\n",
       "\\end{center}"
      ],
      "text/plain": [
       "<class 'statsmodels.iolib.summary.Summary'>\n",
       "\"\"\"\n",
       "                 Generalized Linear Model Regression Results                  \n",
       "==============================================================================\n",
       "Dep. Variable:                      y   No. Observations:                  100\n",
       "Model:                       BayesGLM   Df Residuals:                       97\n",
       "Model Family:                Binomial   Df Model:                            2\n",
       "Link Function:                  Logit   Scale:                          1.0000\n",
       "Method:                         BIRLS   Log-Likelihood:                -34.768\n",
       "Date:                Wed, 12 Jun 2024   Deviance:                       69.535\n",
       "Time:                        07:10:25   Pearson chi2:                     73.0\n",
       "No. Iterations:                     6   Pseudo R-squ. (CS):             0.2192\n",
       "Covariance Type:            nonrobust                                         \n",
       "==============================================================================\n",
       "                 coef    std err          z      P>|z|      [0.025      0.975]\n",
       "------------------------------------------------------------------------------\n",
       "const          1.1980      0.354      3.383      0.001       0.504       1.892\n",
       "x1             1.1710      0.328      3.566      0.000       0.527       1.815\n",
       "x2             1.8884      0.688      2.743      0.006       0.539       3.237\n",
       "==============================================================================\n",
       "\"\"\""
      ]
     },
     "execution_count": 26,
     "metadata": {},
     "output_type": "execute_result"
    }
   ],
   "source": [
    "M6 = BayesGLM(endog=df.y, exog=df.drop(columns=\"y\"), family=families.Binomial()).fit(\n",
    "    prior_scale=2.5, prior_df=np.inf\n",
    ")\n",
    "M6.summary()"
   ]
  },
  {
   "cell_type": "markdown",
   "metadata": {},
   "source": [
    "### Create Separation"
   ]
  },
  {
   "cell_type": "code",
   "execution_count": 27,
   "metadata": {},
   "outputs": [
    {
     "name": "stdout",
     "output_type": "stream",
     "text": [
      "  [1] 0 0 0 0 0 0 1 1 1 0 0 1 1 0 0 1 0 0 0 1 0 1 0 0 1 1 0 0 0 1 1 1 0 1 0 0 0\n",
      " [38] 0 1 1 1 1 0 1 1 0 1 1 1 0 1 1 1 0 0 0 1 0 0 1 0 1 0 0 1 1 0 0 1 0 0 0 0 1\n",
      " [75] 1 0 0 1 0 0 1 0 1 0 1 0 1 1 0 1 0 1 0 0 0 0 0 1 0 0\n"
     ]
    }
   ],
   "source": [
    "%%R\n",
    "# augment y as shown in the docs\n",
    "\n",
    "# Create separation: set y=1 whenever x2=1\n",
    "# Now it should blow up without the prior!\n",
    "y <- ifelse (x2==1, 1, 0)\n",
    "y"
   ]
  },
  {
   "cell_type": "code",
   "execution_count": 28,
   "metadata": {},
   "outputs": [
    {
     "data": {
      "text/plain": [
       "array([0., 0., 0., 0., 0., 0., 1., 1., 1., 0., 0., 1., 1., 0., 0., 1., 0.,\n",
       "       0., 0., 1., 0., 1., 0., 0., 1., 1., 0., 0., 0., 1., 1., 1., 0., 1.,\n",
       "       0., 0., 0., 0., 1., 1., 1., 1., 0., 1., 1., 0., 1., 1., 1., 0., 1.,\n",
       "       1., 1., 0., 0., 0., 1., 0., 0., 1., 0., 1., 0., 0., 1., 1., 0., 0.,\n",
       "       1., 0., 0., 0., 0., 1., 1., 0., 0., 1., 0., 0., 1., 0., 1., 0., 1.,\n",
       "       0., 1., 1., 0., 1., 0., 1., 0., 0., 0., 0., 0., 1., 0., 0.])"
      ]
     },
     "execution_count": 28,
     "metadata": {},
     "output_type": "execute_result"
    }
   ],
   "source": [
    "# import the augmented y into Python\n",
    "y = np.array(robjects.globalenv[\"y\"])\n",
    "y"
   ]
  },
  {
   "cell_type": "code",
   "execution_count": 29,
   "metadata": {},
   "outputs": [
    {
     "name": "stdout",
     "output_type": "stream",
     "text": [
      "glm(formula = y ~ x1 + x2, family = binomial(link = \"logit\"))\n",
      "            coef.est coef.se \n",
      "(Intercept)   -26.57 47437.64\n",
      "x1              0.00 34673.34\n",
      "x2             53.13 72493.65\n",
      "---\n",
      "  n = 100, k = 3\n",
      "  residual deviance = 0.0, null deviance = 136.7 (difference = 136.7)\n"
     ]
    }
   ],
   "source": [
    "%%R\n",
    "M1 <- glm (y ~ x1 + x2, family=binomial(link=\"logit\"))\n",
    "arm::display (M1)"
   ]
  },
  {
   "cell_type": "code",
   "execution_count": 30,
   "metadata": {},
   "outputs": [
    {
     "name": "stderr",
     "output_type": "stream",
     "text": [
      "/home/chris/Documents/Github/bayesglm/.venv/lib/python3.8/site-packages/statsmodels/genmod/generalized_linear_model.py:1342: PerfectSeparationWarning: Perfect separation or prediction detected, parameter may not be identified\n",
      "  warnings.warn(msg, category=PerfectSeparationWarning)\n",
      "/home/chris/Documents/Github/bayesglm/.venv/lib/python3.8/site-packages/statsmodels/genmod/generalized_linear_model.py:1342: PerfectSeparationWarning: Perfect separation or prediction detected, parameter may not be identified\n",
      "  warnings.warn(msg, category=PerfectSeparationWarning)\n",
      "/home/chris/Documents/Github/bayesglm/.venv/lib/python3.8/site-packages/statsmodels/genmod/generalized_linear_model.py:1342: PerfectSeparationWarning: Perfect separation or prediction detected, parameter may not be identified\n",
      "  warnings.warn(msg, category=PerfectSeparationWarning)\n",
      "/home/chris/Documents/Github/bayesglm/.venv/lib/python3.8/site-packages/statsmodels/genmod/generalized_linear_model.py:1342: PerfectSeparationWarning: Perfect separation or prediction detected, parameter may not be identified\n",
      "  warnings.warn(msg, category=PerfectSeparationWarning)\n",
      "/home/chris/Documents/Github/bayesglm/.venv/lib/python3.8/site-packages/statsmodels/genmod/generalized_linear_model.py:1342: PerfectSeparationWarning: Perfect separation or prediction detected, parameter may not be identified\n",
      "  warnings.warn(msg, category=PerfectSeparationWarning)\n",
      "/home/chris/Documents/Github/bayesglm/.venv/lib/python3.8/site-packages/statsmodels/genmod/generalized_linear_model.py:1342: PerfectSeparationWarning: Perfect separation or prediction detected, parameter may not be identified\n",
      "  warnings.warn(msg, category=PerfectSeparationWarning)\n",
      "/home/chris/Documents/Github/bayesglm/.venv/lib/python3.8/site-packages/statsmodels/genmod/generalized_linear_model.py:1342: PerfectSeparationWarning: Perfect separation or prediction detected, parameter may not be identified\n",
      "  warnings.warn(msg, category=PerfectSeparationWarning)\n"
     ]
    },
    {
     "data": {
      "text/html": [
       "<table class=\"simpletable\">\n",
       "<caption>Generalized Linear Model Regression Results</caption>\n",
       "<tr>\n",
       "  <th>Dep. Variable:</th>           <td>y</td>        <th>  No. Observations:  </th>   <td>   100</td>   \n",
       "</tr>\n",
       "<tr>\n",
       "  <th>Model:</th>                  <td>GLM</td>       <th>  Df Residuals:      </th>   <td>    97</td>   \n",
       "</tr>\n",
       "<tr>\n",
       "  <th>Model Family:</th>        <td>Binomial</td>     <th>  Df Model:          </th>   <td>     2</td>   \n",
       "</tr>\n",
       "<tr>\n",
       "  <th>Link Function:</th>         <td>Logit</td>      <th>  Scale:             </th>  <td>  1.0000</td>  \n",
       "</tr>\n",
       "<tr>\n",
       "  <th>Method:</th>                <td>IRLS</td>       <th>  Log-Likelihood:    </th> <td>-2.1433e-09</td>\n",
       "</tr>\n",
       "<tr>\n",
       "  <th>Date:</th>            <td>Wed, 12 Jun 2024</td> <th>  Deviance:          </th> <td>4.2867e-09</td> \n",
       "</tr>\n",
       "<tr>\n",
       "  <th>Time:</th>                <td>07:10:25</td>     <th>  Pearson chi2:      </th>  <td>2.14e-09</td>  \n",
       "</tr>\n",
       "<tr>\n",
       "  <th>No. Iterations:</th>         <td>23</td>        <th>  Pseudo R-squ. (CS):</th>   <td>0.7450</td>   \n",
       "</tr>\n",
       "<tr>\n",
       "  <th>Covariance Type:</th>     <td>nonrobust</td>    <th>                     </th>      <td> </td>     \n",
       "</tr>\n",
       "</table>\n",
       "<table class=\"simpletable\">\n",
       "<tr>\n",
       "    <td></td>       <th>coef</th>     <th>std err</th>      <th>z</th>      <th>P>|z|</th>  <th>[0.025</th>    <th>0.975]</th>  \n",
       "</tr>\n",
       "<tr>\n",
       "  <th>const</th> <td>  -24.5661</td> <td> 1.75e+04</td> <td>   -0.001</td> <td> 0.999</td> <td>-3.42e+04</td> <td> 3.42e+04</td>\n",
       "</tr>\n",
       "<tr>\n",
       "  <th>x1</th>    <td> 9.104e-15</td> <td> 1.28e+04</td> <td> 7.14e-19</td> <td> 1.000</td> <td> -2.5e+04</td> <td>  2.5e+04</td>\n",
       "</tr>\n",
       "<tr>\n",
       "  <th>x2</th>    <td>   49.1321</td> <td> 2.67e+04</td> <td>    0.002</td> <td> 0.999</td> <td>-5.22e+04</td> <td> 5.23e+04</td>\n",
       "</tr>\n",
       "</table>"
      ],
      "text/latex": [
       "\\begin{center}\n",
       "\\begin{tabular}{lclc}\n",
       "\\toprule\n",
       "\\textbf{Dep. Variable:}   &        y         & \\textbf{  No. Observations:  } &       100    \\\\\n",
       "\\textbf{Model:}           &       GLM        & \\textbf{  Df Residuals:      } &        97    \\\\\n",
       "\\textbf{Model Family:}    &     Binomial     & \\textbf{  Df Model:          } &         2    \\\\\n",
       "\\textbf{Link Function:}   &      Logit       & \\textbf{  Scale:             } &     1.0000   \\\\\n",
       "\\textbf{Method:}          &       IRLS       & \\textbf{  Log-Likelihood:    } & -2.1433e-09  \\\\\n",
       "\\textbf{Date:}            & Wed, 12 Jun 2024 & \\textbf{  Deviance:          } &  4.2867e-09  \\\\\n",
       "\\textbf{Time:}            &     07:10:25     & \\textbf{  Pearson chi2:      } &   2.14e-09   \\\\\n",
       "\\textbf{No. Iterations:}  &        23        & \\textbf{  Pseudo R-squ. (CS):} &    0.7450    \\\\\n",
       "\\textbf{Covariance Type:} &    nonrobust     & \\textbf{                     } &              \\\\\n",
       "\\bottomrule\n",
       "\\end{tabular}\n",
       "\\begin{tabular}{lcccccc}\n",
       "               & \\textbf{coef} & \\textbf{std err} & \\textbf{z} & \\textbf{P$> |$z$|$} & \\textbf{[0.025} & \\textbf{0.975]}  \\\\\n",
       "\\midrule\n",
       "\\textbf{const} &     -24.5661  &     1.75e+04     &    -0.001  &         0.999        &    -3.42e+04    &     3.42e+04     \\\\\n",
       "\\textbf{x1}    &    9.104e-15  &     1.28e+04     &  7.14e-19  &         1.000        &     -2.5e+04    &      2.5e+04     \\\\\n",
       "\\textbf{x2}    &      49.1321  &     2.67e+04     &     0.002  &         0.999        &    -5.22e+04    &     5.23e+04     \\\\\n",
       "\\bottomrule\n",
       "\\end{tabular}\n",
       "%\\caption{Generalized Linear Model Regression Results}\n",
       "\\end{center}"
      ],
      "text/plain": [
       "<class 'statsmodels.iolib.summary.Summary'>\n",
       "\"\"\"\n",
       "                 Generalized Linear Model Regression Results                  \n",
       "==============================================================================\n",
       "Dep. Variable:                      y   No. Observations:                  100\n",
       "Model:                            GLM   Df Residuals:                       97\n",
       "Model Family:                Binomial   Df Model:                            2\n",
       "Link Function:                  Logit   Scale:                          1.0000\n",
       "Method:                          IRLS   Log-Likelihood:            -2.1433e-09\n",
       "Date:                Wed, 12 Jun 2024   Deviance:                   4.2867e-09\n",
       "Time:                        07:10:25   Pearson chi2:                 2.14e-09\n",
       "No. Iterations:                    23   Pseudo R-squ. (CS):             0.7450\n",
       "Covariance Type:            nonrobust                                         \n",
       "==============================================================================\n",
       "                 coef    std err          z      P>|z|      [0.025      0.975]\n",
       "------------------------------------------------------------------------------\n",
       "const        -24.5661   1.75e+04     -0.001      0.999   -3.42e+04    3.42e+04\n",
       "x1          9.104e-15   1.28e+04   7.14e-19      1.000    -2.5e+04     2.5e+04\n",
       "x2            49.1321   2.67e+04      0.002      0.999   -5.22e+04    5.23e+04\n",
       "==============================================================================\n",
       "\"\"\""
      ]
     },
     "execution_count": 30,
     "metadata": {},
     "output_type": "execute_result"
    }
   ],
   "source": [
    "M1 = GLM(endog=y, exog=df.drop(columns=\"y\"), family=families.Binomial()).fit()\n",
    "M1.summary()"
   ]
  },
  {
   "cell_type": "markdown",
   "metadata": {},
   "source": [
    "### Same behavior for M2 and M2"
   ]
  },
  {
   "cell_type": "code",
   "execution_count": 31,
   "metadata": {},
   "outputs": [
    {
     "name": "stdout",
     "output_type": "stream",
     "text": [
      "arm::bayesglm(formula = y ~ x1 + x2, family = binomial(link = \"logit\"), \n",
      "    prior.scale = Inf, prior.scale.for.intercept = Inf)\n",
      "            coef.est coef.se \n",
      "(Intercept)   -26.57 47437.64\n",
      "x1              0.00 34673.34\n",
      "x2             53.13 72493.65\n",
      "---\n",
      "n = 100, k = 3\n",
      "residual deviance = 0.0, null deviance = 136.7 (difference = 136.7)\n"
     ]
    }
   ],
   "source": [
    "%%R\n",
    "M2 <- arm::bayesglm (y ~ x1 + x2, family=binomial(link=\"logit\"),\n",
    "prior.scale=Inf, prior.scale.for.intercept=Inf) # Same as M1\n",
    "arm::display (M2)"
   ]
  },
  {
   "cell_type": "code",
   "execution_count": 32,
   "metadata": {},
   "outputs": [
    {
     "name": "stdout",
     "output_type": "stream",
     "text": [
      "Expected failure due to perfect separation\n"
     ]
    }
   ],
   "source": [
    "# This will break with no priors! As there's perfect separation.\n",
    "try:\n",
    "    M2 = BayesGLM(endog=y, exog=df.drop(columns=\"y\"), family=families.Binomial()).fit(\n",
    "        prior_scale=np.inf, prior_df=np.inf\n",
    "    )\n",
    "    M2.summary()\n",
    "except Exception:\n",
    "    print(\"Expected failure due to perfect separation\")"
   ]
  },
  {
   "cell_type": "markdown",
   "metadata": {},
   "source": [
    "### Same behavior for M3 and M3"
   ]
  },
  {
   "cell_type": "code",
   "execution_count": 33,
   "metadata": {},
   "outputs": [
    {
     "name": "stdout",
     "output_type": "stream",
     "text": [
      "arm::bayesglm(formula = y ~ x1 + x2, family = binomial(link = \"logit\"))\n",
      "            coef.est coef.se\n",
      "(Intercept) -5.86     2.37  \n",
      "x1          -0.03     0.91  \n",
      "x2          11.53     3.33  \n",
      "---\n",
      "n = 100, k = 3\n",
      "residual deviance = 0.6, null deviance = 136.7 (difference = 136.0)\n"
     ]
    }
   ],
   "source": [
    "%%R\n",
    "M3 <- arm::bayesglm (y ~ x1 + x2, family=binomial(link=\"logit\"))\n",
    "arm::display (M3)"
   ]
  },
  {
   "cell_type": "code",
   "execution_count": 34,
   "metadata": {},
   "outputs": [
    {
     "data": {
      "text/html": [
       "<table class=\"simpletable\">\n",
       "<caption>Generalized Linear Model Regression Results</caption>\n",
       "<tr>\n",
       "  <th>Dep. Variable:</th>           <td>y</td>        <th>  No. Observations:  </th>  <td>   100</td> \n",
       "</tr>\n",
       "<tr>\n",
       "  <th>Model:</th>               <td>BayesGLM</td>     <th>  Df Residuals:      </th>  <td>    97</td> \n",
       "</tr>\n",
       "<tr>\n",
       "  <th>Model Family:</th>        <td>Binomial</td>     <th>  Df Model:          </th>  <td>     2</td> \n",
       "</tr>\n",
       "<tr>\n",
       "  <th>Link Function:</th>         <td>Logit</td>      <th>  Scale:             </th> <td>  1.0000</td>\n",
       "</tr>\n",
       "<tr>\n",
       "  <th>Method:</th>                <td>BIRLS</td>      <th>  Log-Likelihood:    </th> <td>-0.30914</td>\n",
       "</tr>\n",
       "<tr>\n",
       "  <th>Date:</th>            <td>Wed, 12 Jun 2024</td> <th>  Deviance:          </th> <td> 0.61828</td>\n",
       "</tr>\n",
       "<tr>\n",
       "  <th>Time:</th>                <td>07:10:25</td>     <th>  Pearson chi2:      </th>  <td> 0.310</td> \n",
       "</tr>\n",
       "<tr>\n",
       "  <th>No. Iterations:</th>         <td>25</td>        <th>  Pseudo R-squ. (CS):</th>  <td>0.7435</td> \n",
       "</tr>\n",
       "<tr>\n",
       "  <th>Covariance Type:</th>     <td>nonrobust</td>    <th>                     </th>     <td> </td>   \n",
       "</tr>\n",
       "</table>\n",
       "<table class=\"simpletable\">\n",
       "<tr>\n",
       "    <td></td>       <th>coef</th>     <th>std err</th>      <th>z</th>      <th>P>|z|</th>  <th>[0.025</th>    <th>0.975]</th>  \n",
       "</tr>\n",
       "<tr>\n",
       "  <th>const</th> <td>   -5.8636</td> <td>    2.374</td> <td>   -2.470</td> <td> 0.014</td> <td>  -10.516</td> <td>   -1.211</td>\n",
       "</tr>\n",
       "<tr>\n",
       "  <th>x1</th>    <td>   -0.0333</td> <td>    0.914</td> <td>   -0.036</td> <td> 0.971</td> <td>   -1.825</td> <td>    1.759</td>\n",
       "</tr>\n",
       "<tr>\n",
       "  <th>x2</th>    <td>   11.5296</td> <td>    3.334</td> <td>    3.458</td> <td> 0.001</td> <td>    4.994</td> <td>   18.065</td>\n",
       "</tr>\n",
       "</table>"
      ],
      "text/latex": [
       "\\begin{center}\n",
       "\\begin{tabular}{lclc}\n",
       "\\toprule\n",
       "\\textbf{Dep. Variable:}   &        y         & \\textbf{  No. Observations:  } &      100    \\\\\n",
       "\\textbf{Model:}           &     BayesGLM     & \\textbf{  Df Residuals:      } &       97    \\\\\n",
       "\\textbf{Model Family:}    &     Binomial     & \\textbf{  Df Model:          } &        2    \\\\\n",
       "\\textbf{Link Function:}   &      Logit       & \\textbf{  Scale:             } &    1.0000   \\\\\n",
       "\\textbf{Method:}          &      BIRLS       & \\textbf{  Log-Likelihood:    } &  -0.30914   \\\\\n",
       "\\textbf{Date:}            & Wed, 12 Jun 2024 & \\textbf{  Deviance:          } &   0.61828   \\\\\n",
       "\\textbf{Time:}            &     07:10:25     & \\textbf{  Pearson chi2:      } &    0.310    \\\\\n",
       "\\textbf{No. Iterations:}  &        25        & \\textbf{  Pseudo R-squ. (CS):} &   0.7435    \\\\\n",
       "\\textbf{Covariance Type:} &    nonrobust     & \\textbf{                     } &             \\\\\n",
       "\\bottomrule\n",
       "\\end{tabular}\n",
       "\\begin{tabular}{lcccccc}\n",
       "               & \\textbf{coef} & \\textbf{std err} & \\textbf{z} & \\textbf{P$> |$z$|$} & \\textbf{[0.025} & \\textbf{0.975]}  \\\\\n",
       "\\midrule\n",
       "\\textbf{const} &      -5.8636  &        2.374     &    -2.470  &         0.014        &      -10.516    &       -1.211     \\\\\n",
       "\\textbf{x1}    &      -0.0333  &        0.914     &    -0.036  &         0.971        &       -1.825    &        1.759     \\\\\n",
       "\\textbf{x2}    &      11.5296  &        3.334     &     3.458  &         0.001        &        4.994    &       18.065     \\\\\n",
       "\\bottomrule\n",
       "\\end{tabular}\n",
       "%\\caption{Generalized Linear Model Regression Results}\n",
       "\\end{center}"
      ],
      "text/plain": [
       "<class 'statsmodels.iolib.summary.Summary'>\n",
       "\"\"\"\n",
       "                 Generalized Linear Model Regression Results                  \n",
       "==============================================================================\n",
       "Dep. Variable:                      y   No. Observations:                  100\n",
       "Model:                       BayesGLM   Df Residuals:                       97\n",
       "Model Family:                Binomial   Df Model:                            2\n",
       "Link Function:                  Logit   Scale:                          1.0000\n",
       "Method:                         BIRLS   Log-Likelihood:               -0.30914\n",
       "Date:                Wed, 12 Jun 2024   Deviance:                      0.61828\n",
       "Time:                        07:10:25   Pearson chi2:                    0.310\n",
       "No. Iterations:                    25   Pseudo R-squ. (CS):             0.7435\n",
       "Covariance Type:            nonrobust                                         \n",
       "==============================================================================\n",
       "                 coef    std err          z      P>|z|      [0.025      0.975]\n",
       "------------------------------------------------------------------------------\n",
       "const         -5.8636      2.374     -2.470      0.014     -10.516      -1.211\n",
       "x1            -0.0333      0.914     -0.036      0.971      -1.825       1.759\n",
       "x2            11.5296      3.334      3.458      0.001       4.994      18.065\n",
       "==============================================================================\n",
       "\"\"\""
      ]
     },
     "execution_count": 34,
     "metadata": {},
     "output_type": "execute_result"
    }
   ],
   "source": [
    "M3 = BayesGLM(endog=y, exog=df.drop(columns=\"y\"), family=families.Binomial()).fit()\n",
    "M3.summary()"
   ]
  },
  {
   "cell_type": "markdown",
   "metadata": {},
   "source": [
    "### Same behavior for M4 and M4"
   ]
  },
  {
   "cell_type": "code",
   "execution_count": 35,
   "metadata": {},
   "outputs": [
    {
     "name": "stdout",
     "output_type": "stream",
     "text": [
      "arm::bayesglm(formula = y ~ x1 + x2, family = binomial(link = \"logit\"), \n",
      "    prior.scale = 2.5, prior.scale.for.intercept = 10)\n",
      "            coef.est coef.se\n",
      "(Intercept) -5.86     2.37  \n",
      "x1          -0.03     0.91  \n",
      "x2          11.53     3.33  \n",
      "---\n",
      "n = 100, k = 3\n",
      "residual deviance = 0.6, null deviance = 136.7 (difference = 136.0)\n"
     ]
    }
   ],
   "source": [
    "%%R\n",
    "M4 <- arm::bayesglm (y ~ x1 + x2, family=binomial(link=\"logit\"),\n",
    "prior.scale=2.5, prior.scale.for.intercept=10) # Same as M3\n",
    "arm::display (M4)"
   ]
  },
  {
   "cell_type": "code",
   "execution_count": 36,
   "metadata": {},
   "outputs": [
    {
     "data": {
      "text/html": [
       "<table class=\"simpletable\">\n",
       "<caption>Generalized Linear Model Regression Results</caption>\n",
       "<tr>\n",
       "  <th>Dep. Variable:</th>           <td>y</td>        <th>  No. Observations:  </th>  <td>   100</td> \n",
       "</tr>\n",
       "<tr>\n",
       "  <th>Model:</th>               <td>BayesGLM</td>     <th>  Df Residuals:      </th>  <td>    97</td> \n",
       "</tr>\n",
       "<tr>\n",
       "  <th>Model Family:</th>        <td>Binomial</td>     <th>  Df Model:          </th>  <td>     2</td> \n",
       "</tr>\n",
       "<tr>\n",
       "  <th>Link Function:</th>         <td>Logit</td>      <th>  Scale:             </th> <td>  1.0000</td>\n",
       "</tr>\n",
       "<tr>\n",
       "  <th>Method:</th>                <td>BIRLS</td>      <th>  Log-Likelihood:    </th> <td>-0.30914</td>\n",
       "</tr>\n",
       "<tr>\n",
       "  <th>Date:</th>            <td>Wed, 12 Jun 2024</td> <th>  Deviance:          </th> <td> 0.61828</td>\n",
       "</tr>\n",
       "<tr>\n",
       "  <th>Time:</th>                <td>07:10:25</td>     <th>  Pearson chi2:      </th>  <td> 0.310</td> \n",
       "</tr>\n",
       "<tr>\n",
       "  <th>No. Iterations:</th>         <td>25</td>        <th>  Pseudo R-squ. (CS):</th>  <td>0.7435</td> \n",
       "</tr>\n",
       "<tr>\n",
       "  <th>Covariance Type:</th>     <td>nonrobust</td>    <th>                     </th>     <td> </td>   \n",
       "</tr>\n",
       "</table>\n",
       "<table class=\"simpletable\">\n",
       "<tr>\n",
       "    <td></td>       <th>coef</th>     <th>std err</th>      <th>z</th>      <th>P>|z|</th>  <th>[0.025</th>    <th>0.975]</th>  \n",
       "</tr>\n",
       "<tr>\n",
       "  <th>const</th> <td>   -5.8636</td> <td>    2.374</td> <td>   -2.470</td> <td> 0.014</td> <td>  -10.516</td> <td>   -1.211</td>\n",
       "</tr>\n",
       "<tr>\n",
       "  <th>x1</th>    <td>   -0.0333</td> <td>    0.914</td> <td>   -0.036</td> <td> 0.971</td> <td>   -1.825</td> <td>    1.759</td>\n",
       "</tr>\n",
       "<tr>\n",
       "  <th>x2</th>    <td>   11.5296</td> <td>    3.334</td> <td>    3.458</td> <td> 0.001</td> <td>    4.994</td> <td>   18.065</td>\n",
       "</tr>\n",
       "</table>"
      ],
      "text/latex": [
       "\\begin{center}\n",
       "\\begin{tabular}{lclc}\n",
       "\\toprule\n",
       "\\textbf{Dep. Variable:}   &        y         & \\textbf{  No. Observations:  } &      100    \\\\\n",
       "\\textbf{Model:}           &     BayesGLM     & \\textbf{  Df Residuals:      } &       97    \\\\\n",
       "\\textbf{Model Family:}    &     Binomial     & \\textbf{  Df Model:          } &        2    \\\\\n",
       "\\textbf{Link Function:}   &      Logit       & \\textbf{  Scale:             } &    1.0000   \\\\\n",
       "\\textbf{Method:}          &      BIRLS       & \\textbf{  Log-Likelihood:    } &  -0.30914   \\\\\n",
       "\\textbf{Date:}            & Wed, 12 Jun 2024 & \\textbf{  Deviance:          } &   0.61828   \\\\\n",
       "\\textbf{Time:}            &     07:10:25     & \\textbf{  Pearson chi2:      } &    0.310    \\\\\n",
       "\\textbf{No. Iterations:}  &        25        & \\textbf{  Pseudo R-squ. (CS):} &   0.7435    \\\\\n",
       "\\textbf{Covariance Type:} &    nonrobust     & \\textbf{                     } &             \\\\\n",
       "\\bottomrule\n",
       "\\end{tabular}\n",
       "\\begin{tabular}{lcccccc}\n",
       "               & \\textbf{coef} & \\textbf{std err} & \\textbf{z} & \\textbf{P$> |$z$|$} & \\textbf{[0.025} & \\textbf{0.975]}  \\\\\n",
       "\\midrule\n",
       "\\textbf{const} &      -5.8636  &        2.374     &    -2.470  &         0.014        &      -10.516    &       -1.211     \\\\\n",
       "\\textbf{x1}    &      -0.0333  &        0.914     &    -0.036  &         0.971        &       -1.825    &        1.759     \\\\\n",
       "\\textbf{x2}    &      11.5296  &        3.334     &     3.458  &         0.001        &        4.994    &       18.065     \\\\\n",
       "\\bottomrule\n",
       "\\end{tabular}\n",
       "%\\caption{Generalized Linear Model Regression Results}\n",
       "\\end{center}"
      ],
      "text/plain": [
       "<class 'statsmodels.iolib.summary.Summary'>\n",
       "\"\"\"\n",
       "                 Generalized Linear Model Regression Results                  \n",
       "==============================================================================\n",
       "Dep. Variable:                      y   No. Observations:                  100\n",
       "Model:                       BayesGLM   Df Residuals:                       97\n",
       "Model Family:                Binomial   Df Model:                            2\n",
       "Link Function:                  Logit   Scale:                          1.0000\n",
       "Method:                         BIRLS   Log-Likelihood:               -0.30914\n",
       "Date:                Wed, 12 Jun 2024   Deviance:                      0.61828\n",
       "Time:                        07:10:25   Pearson chi2:                    0.310\n",
       "No. Iterations:                    25   Pseudo R-squ. (CS):             0.7435\n",
       "Covariance Type:            nonrobust                                         \n",
       "==============================================================================\n",
       "                 coef    std err          z      P>|z|      [0.025      0.975]\n",
       "------------------------------------------------------------------------------\n",
       "const         -5.8636      2.374     -2.470      0.014     -10.516      -1.211\n",
       "x1            -0.0333      0.914     -0.036      0.971      -1.825       1.759\n",
       "x2            11.5296      3.334      3.458      0.001       4.994      18.065\n",
       "==============================================================================\n",
       "\"\"\""
      ]
     },
     "execution_count": 36,
     "metadata": {},
     "output_type": "execute_result"
    }
   ],
   "source": [
    "M4 = BayesGLM(endog=y, exog=df.drop(columns=\"y\"), family=families.Binomial()).fit(\n",
    "    prior_scale=2.5, prior_scale_for_intercept=10\n",
    ")\n",
    "M4.summary()"
   ]
  },
  {
   "cell_type": "markdown",
   "metadata": {},
   "source": [
    "### Same behavior for M5"
   ]
  },
  {
   "cell_type": "code",
   "execution_count": 37,
   "metadata": {},
   "outputs": [
    {
     "name": "stdout",
     "output_type": "stream",
     "text": [
      "arm::bayesglm(formula = y ~ x1 + x2, family = binomial(link = \"logit\"), \n",
      "    prior.scale = 2.5, prior.df = 7)\n",
      "            coef.est coef.se\n",
      "(Intercept) -4.58     1.26  \n",
      "x1          -0.08     0.72  \n",
      "x2           8.90     1.71  \n",
      "---\n",
      "n = 100, k = 3\n",
      "residual deviance = 2.3, null deviance = 136.7 (difference = 134.4)\n"
     ]
    }
   ],
   "source": [
    "%%R\n",
    "M5 <- arm::bayesglm (y ~ x1 + x2, family=binomial(link=\"logit\"),\n",
    "prior.scale=2.5, prior.df=7)\n",
    "arm::display (M5)"
   ]
  },
  {
   "cell_type": "code",
   "execution_count": 38,
   "metadata": {},
   "outputs": [
    {
     "data": {
      "text/html": [
       "<table class=\"simpletable\">\n",
       "<caption>Generalized Linear Model Regression Results</caption>\n",
       "<tr>\n",
       "  <th>Dep. Variable:</th>           <td>y</td>        <th>  No. Observations:  </th>  <td>   100</td> \n",
       "</tr>\n",
       "<tr>\n",
       "  <th>Model:</th>               <td>BayesGLM</td>     <th>  Df Residuals:      </th>  <td>    97</td> \n",
       "</tr>\n",
       "<tr>\n",
       "  <th>Model Family:</th>        <td>Binomial</td>     <th>  Df Model:          </th>  <td>     2</td> \n",
       "</tr>\n",
       "<tr>\n",
       "  <th>Link Function:</th>         <td>Logit</td>      <th>  Scale:             </th> <td>  1.0000</td>\n",
       "</tr>\n",
       "<tr>\n",
       "  <th>Method:</th>                <td>BIRLS</td>      <th>  Log-Likelihood:    </th> <td> -1.1395</td>\n",
       "</tr>\n",
       "<tr>\n",
       "  <th>Date:</th>            <td>Wed, 12 Jun 2024</td> <th>  Deviance:          </th> <td>  2.2790</td>\n",
       "</tr>\n",
       "<tr>\n",
       "  <th>Time:</th>                <td>07:10:25</td>     <th>  Pearson chi2:      </th>  <td>  1.15</td> \n",
       "</tr>\n",
       "<tr>\n",
       "  <th>No. Iterations:</th>         <td>20</td>        <th>  Pseudo R-squ. (CS):</th>  <td>0.7392</td> \n",
       "</tr>\n",
       "<tr>\n",
       "  <th>Covariance Type:</th>     <td>nonrobust</td>    <th>                     </th>     <td> </td>   \n",
       "</tr>\n",
       "</table>\n",
       "<table class=\"simpletable\">\n",
       "<tr>\n",
       "    <td></td>       <th>coef</th>     <th>std err</th>      <th>z</th>      <th>P>|z|</th>  <th>[0.025</th>    <th>0.975]</th>  \n",
       "</tr>\n",
       "<tr>\n",
       "  <th>const</th> <td>   -4.5828</td> <td>    1.260</td> <td>   -3.636</td> <td> 0.000</td> <td>   -7.053</td> <td>   -2.112</td>\n",
       "</tr>\n",
       "<tr>\n",
       "  <th>x1</th>    <td>   -0.0769</td> <td>    0.724</td> <td>   -0.106</td> <td> 0.915</td> <td>   -1.496</td> <td>    1.343</td>\n",
       "</tr>\n",
       "<tr>\n",
       "  <th>x2</th>    <td>    8.9039</td> <td>    1.707</td> <td>    5.215</td> <td> 0.000</td> <td>    5.557</td> <td>   12.250</td>\n",
       "</tr>\n",
       "</table>"
      ],
      "text/latex": [
       "\\begin{center}\n",
       "\\begin{tabular}{lclc}\n",
       "\\toprule\n",
       "\\textbf{Dep. Variable:}   &        y         & \\textbf{  No. Observations:  } &      100    \\\\\n",
       "\\textbf{Model:}           &     BayesGLM     & \\textbf{  Df Residuals:      } &       97    \\\\\n",
       "\\textbf{Model Family:}    &     Binomial     & \\textbf{  Df Model:          } &        2    \\\\\n",
       "\\textbf{Link Function:}   &      Logit       & \\textbf{  Scale:             } &    1.0000   \\\\\n",
       "\\textbf{Method:}          &      BIRLS       & \\textbf{  Log-Likelihood:    } &   -1.1395   \\\\\n",
       "\\textbf{Date:}            & Wed, 12 Jun 2024 & \\textbf{  Deviance:          } &    2.2790   \\\\\n",
       "\\textbf{Time:}            &     07:10:25     & \\textbf{  Pearson chi2:      } &     1.15    \\\\\n",
       "\\textbf{No. Iterations:}  &        20        & \\textbf{  Pseudo R-squ. (CS):} &   0.7392    \\\\\n",
       "\\textbf{Covariance Type:} &    nonrobust     & \\textbf{                     } &             \\\\\n",
       "\\bottomrule\n",
       "\\end{tabular}\n",
       "\\begin{tabular}{lcccccc}\n",
       "               & \\textbf{coef} & \\textbf{std err} & \\textbf{z} & \\textbf{P$> |$z$|$} & \\textbf{[0.025} & \\textbf{0.975]}  \\\\\n",
       "\\midrule\n",
       "\\textbf{const} &      -4.5828  &        1.260     &    -3.636  &         0.000        &       -7.053    &       -2.112     \\\\\n",
       "\\textbf{x1}    &      -0.0769  &        0.724     &    -0.106  &         0.915        &       -1.496    &        1.343     \\\\\n",
       "\\textbf{x2}    &       8.9039  &        1.707     &     5.215  &         0.000        &        5.557    &       12.250     \\\\\n",
       "\\bottomrule\n",
       "\\end{tabular}\n",
       "%\\caption{Generalized Linear Model Regression Results}\n",
       "\\end{center}"
      ],
      "text/plain": [
       "<class 'statsmodels.iolib.summary.Summary'>\n",
       "\"\"\"\n",
       "                 Generalized Linear Model Regression Results                  \n",
       "==============================================================================\n",
       "Dep. Variable:                      y   No. Observations:                  100\n",
       "Model:                       BayesGLM   Df Residuals:                       97\n",
       "Model Family:                Binomial   Df Model:                            2\n",
       "Link Function:                  Logit   Scale:                          1.0000\n",
       "Method:                         BIRLS   Log-Likelihood:                -1.1395\n",
       "Date:                Wed, 12 Jun 2024   Deviance:                       2.2790\n",
       "Time:                        07:10:25   Pearson chi2:                     1.15\n",
       "No. Iterations:                    20   Pseudo R-squ. (CS):             0.7392\n",
       "Covariance Type:            nonrobust                                         \n",
       "==============================================================================\n",
       "                 coef    std err          z      P>|z|      [0.025      0.975]\n",
       "------------------------------------------------------------------------------\n",
       "const         -4.5828      1.260     -3.636      0.000      -7.053      -2.112\n",
       "x1            -0.0769      0.724     -0.106      0.915      -1.496       1.343\n",
       "x2             8.9039      1.707      5.215      0.000       5.557      12.250\n",
       "==============================================================================\n",
       "\"\"\""
      ]
     },
     "execution_count": 38,
     "metadata": {},
     "output_type": "execute_result"
    }
   ],
   "source": [
    "M5 = BayesGLM(endog=y, exog=df.drop(columns=\"y\"), family=families.Binomial()).fit(\n",
    "    prior_scale=2.5, prior_df=7\n",
    ")\n",
    "M5.summary()"
   ]
  },
  {
   "cell_type": "markdown",
   "metadata": {},
   "source": [
    "### Same behavior with M6"
   ]
  },
  {
   "cell_type": "code",
   "execution_count": 39,
   "metadata": {},
   "outputs": [
    {
     "name": "stdout",
     "output_type": "stream",
     "text": [
      "arm::bayesglm(formula = y ~ x1 + x2, family = binomial(link = \"logit\"), \n",
      "    prior.scale = 2.5, prior.df = Inf)\n",
      "            coef.est coef.se\n",
      "(Intercept) -3.84     0.87  \n",
      "x1          -0.10     0.57  \n",
      "x2           7.40     1.16  \n",
      "---\n",
      "n = 100, k = 3\n",
      "residual deviance = 4.8, null deviance = 136.7 (difference = 131.9)\n"
     ]
    }
   ],
   "source": [
    "%%R\n",
    "M6 <- arm::bayesglm (y ~ x1 + x2, family=binomial(link=\"logit\"),\n",
    "prior.scale=2.5, prior.df=Inf)\n",
    "arm::display (M6)"
   ]
  },
  {
   "cell_type": "code",
   "execution_count": 40,
   "metadata": {},
   "outputs": [
    {
     "data": {
      "text/html": [
       "<table class=\"simpletable\">\n",
       "<caption>Generalized Linear Model Regression Results</caption>\n",
       "<tr>\n",
       "  <th>Dep. Variable:</th>           <td>y</td>        <th>  No. Observations:  </th>  <td>   100</td> \n",
       "</tr>\n",
       "<tr>\n",
       "  <th>Model:</th>               <td>BayesGLM</td>     <th>  Df Residuals:      </th>  <td>    97</td> \n",
       "</tr>\n",
       "<tr>\n",
       "  <th>Model Family:</th>        <td>Binomial</td>     <th>  Df Model:          </th>  <td>     2</td> \n",
       "</tr>\n",
       "<tr>\n",
       "  <th>Link Function:</th>         <td>Logit</td>      <th>  Scale:             </th> <td>  1.0000</td>\n",
       "</tr>\n",
       "<tr>\n",
       "  <th>Method:</th>                <td>BIRLS</td>      <th>  Log-Likelihood:    </th> <td> -2.3985</td>\n",
       "</tr>\n",
       "<tr>\n",
       "  <th>Date:</th>            <td>Wed, 12 Jun 2024</td> <th>  Deviance:          </th> <td>  4.7969</td>\n",
       "</tr>\n",
       "<tr>\n",
       "  <th>Time:</th>                <td>07:10:25</td>     <th>  Pearson chi2:      </th>  <td>  2.43</td> \n",
       "</tr>\n",
       "<tr>\n",
       "  <th>No. Iterations:</th>          <td>7</td>        <th>  Pseudo R-squ. (CS):</th>  <td>0.7325</td> \n",
       "</tr>\n",
       "<tr>\n",
       "  <th>Covariance Type:</th>     <td>nonrobust</td>    <th>                     </th>     <td> </td>   \n",
       "</tr>\n",
       "</table>\n",
       "<table class=\"simpletable\">\n",
       "<tr>\n",
       "    <td></td>       <th>coef</th>     <th>std err</th>      <th>z</th>      <th>P>|z|</th>  <th>[0.025</th>    <th>0.975]</th>  \n",
       "</tr>\n",
       "<tr>\n",
       "  <th>const</th> <td>   -3.8411</td> <td>    0.875</td> <td>   -4.391</td> <td> 0.000</td> <td>   -5.556</td> <td>   -2.127</td>\n",
       "</tr>\n",
       "<tr>\n",
       "  <th>x1</th>    <td>   -0.0999</td> <td>    0.571</td> <td>   -0.175</td> <td> 0.861</td> <td>   -1.219</td> <td>    1.019</td>\n",
       "</tr>\n",
       "<tr>\n",
       "  <th>x2</th>    <td>    7.4005</td> <td>    1.165</td> <td>    6.355</td> <td> 0.000</td> <td>    5.118</td> <td>    9.683</td>\n",
       "</tr>\n",
       "</table>"
      ],
      "text/latex": [
       "\\begin{center}\n",
       "\\begin{tabular}{lclc}\n",
       "\\toprule\n",
       "\\textbf{Dep. Variable:}   &        y         & \\textbf{  No. Observations:  } &      100    \\\\\n",
       "\\textbf{Model:}           &     BayesGLM     & \\textbf{  Df Residuals:      } &       97    \\\\\n",
       "\\textbf{Model Family:}    &     Binomial     & \\textbf{  Df Model:          } &        2    \\\\\n",
       "\\textbf{Link Function:}   &      Logit       & \\textbf{  Scale:             } &    1.0000   \\\\\n",
       "\\textbf{Method:}          &      BIRLS       & \\textbf{  Log-Likelihood:    } &   -2.3985   \\\\\n",
       "\\textbf{Date:}            & Wed, 12 Jun 2024 & \\textbf{  Deviance:          } &    4.7969   \\\\\n",
       "\\textbf{Time:}            &     07:10:25     & \\textbf{  Pearson chi2:      } &     2.43    \\\\\n",
       "\\textbf{No. Iterations:}  &        7         & \\textbf{  Pseudo R-squ. (CS):} &   0.7325    \\\\\n",
       "\\textbf{Covariance Type:} &    nonrobust     & \\textbf{                     } &             \\\\\n",
       "\\bottomrule\n",
       "\\end{tabular}\n",
       "\\begin{tabular}{lcccccc}\n",
       "               & \\textbf{coef} & \\textbf{std err} & \\textbf{z} & \\textbf{P$> |$z$|$} & \\textbf{[0.025} & \\textbf{0.975]}  \\\\\n",
       "\\midrule\n",
       "\\textbf{const} &      -3.8411  &        0.875     &    -4.391  &         0.000        &       -5.556    &       -2.127     \\\\\n",
       "\\textbf{x1}    &      -0.0999  &        0.571     &    -0.175  &         0.861        &       -1.219    &        1.019     \\\\\n",
       "\\textbf{x2}    &       7.4005  &        1.165     &     6.355  &         0.000        &        5.118    &        9.683     \\\\\n",
       "\\bottomrule\n",
       "\\end{tabular}\n",
       "%\\caption{Generalized Linear Model Regression Results}\n",
       "\\end{center}"
      ],
      "text/plain": [
       "<class 'statsmodels.iolib.summary.Summary'>\n",
       "\"\"\"\n",
       "                 Generalized Linear Model Regression Results                  \n",
       "==============================================================================\n",
       "Dep. Variable:                      y   No. Observations:                  100\n",
       "Model:                       BayesGLM   Df Residuals:                       97\n",
       "Model Family:                Binomial   Df Model:                            2\n",
       "Link Function:                  Logit   Scale:                          1.0000\n",
       "Method:                         BIRLS   Log-Likelihood:                -2.3985\n",
       "Date:                Wed, 12 Jun 2024   Deviance:                       4.7969\n",
       "Time:                        07:10:25   Pearson chi2:                     2.43\n",
       "No. Iterations:                     7   Pseudo R-squ. (CS):             0.7325\n",
       "Covariance Type:            nonrobust                                         \n",
       "==============================================================================\n",
       "                 coef    std err          z      P>|z|      [0.025      0.975]\n",
       "------------------------------------------------------------------------------\n",
       "const         -3.8411      0.875     -4.391      0.000      -5.556      -2.127\n",
       "x1            -0.0999      0.571     -0.175      0.861      -1.219       1.019\n",
       "x2             7.4005      1.165      6.355      0.000       5.118       9.683\n",
       "==============================================================================\n",
       "\"\"\""
      ]
     },
     "execution_count": 40,
     "metadata": {},
     "output_type": "execute_result"
    }
   ],
   "source": [
    "M6 = BayesGLM(endog=y, exog=df.drop(columns=\"y\"), family=families.Binomial()).fit(\n",
    "    prior_scale=2.5, prior_df=np.inf\n",
    ")\n",
    "M6.summary()"
   ]
  },
  {
   "cell_type": "markdown",
   "metadata": {},
   "source": [
    "### bayesglm with gaussian family (bayes lm)"
   ]
  },
  {
   "cell_type": "code",
   "execution_count": 41,
   "metadata": {},
   "outputs": [],
   "source": [
    "%%R\n",
    "# data setup\n",
    "sigma <- 5\n",
    "b0 <- 1\n",
    "b1 <- 1.5\n",
    "b2 <- 2\n",
    "y2 <- rnorm (n, b0+b1*x1+b2*x2, sigma)"
   ]
  },
  {
   "cell_type": "code",
   "execution_count": 42,
   "metadata": {},
   "outputs": [],
   "source": [
    "y2 = np.array(robjects.globalenv[\"y2\"])"
   ]
  },
  {
   "cell_type": "markdown",
   "metadata": {},
   "source": [
    "### Compare behavior M7"
   ]
  },
  {
   "cell_type": "code",
   "execution_count": 43,
   "metadata": {},
   "outputs": [
    {
     "name": "stdout",
     "output_type": "stream",
     "text": [
      "arm::bayesglm(formula = y2 ~ x1 + x2, prior.scale = Inf, prior.df = Inf)\n",
      "            coef.est coef.se\n",
      "(Intercept) 0.28     0.68   \n",
      "x1          2.02     0.49   \n",
      "x2          3.78     1.03   \n",
      "---\n",
      "n = 100, k = 3\n",
      "residual deviance = 2493.2, null deviance = 3183.3 (difference = 690.1)\n",
      "overdispersion parameter = 25.7\n",
      "residual sd is sqrt(overdispersion) = 5.07\n"
     ]
    }
   ],
   "source": [
    "%%R\n",
    "# note that default family is Gaussian\n",
    "M7 <- arm::bayesglm (y2 ~ x1 + x2, prior.scale=Inf, prior.df=Inf)\n",
    "arm::display (M7)"
   ]
  },
  {
   "cell_type": "code",
   "execution_count": 44,
   "metadata": {},
   "outputs": [
    {
     "data": {
      "text/html": [
       "<table class=\"simpletable\">\n",
       "<caption>Generalized Linear Model Regression Results</caption>\n",
       "<tr>\n",
       "  <th>Dep. Variable:</th>           <td>y</td>        <th>  No. Observations:  </th>  <td>   100</td> \n",
       "</tr>\n",
       "<tr>\n",
       "  <th>Model:</th>               <td>BayesGLM</td>     <th>  Df Residuals:      </th>  <td>    97</td> \n",
       "</tr>\n",
       "<tr>\n",
       "  <th>Model Family:</th>        <td>Gaussian</td>     <th>  Df Model:          </th>  <td>     2</td> \n",
       "</tr>\n",
       "<tr>\n",
       "  <th>Link Function:</th>       <td>Identity</td>     <th>  Scale:             </th> <td>  25.703</td>\n",
       "</tr>\n",
       "<tr>\n",
       "  <th>Method:</th>                <td>BIRLS</td>      <th>  Log-Likelihood:    </th> <td> -302.70</td>\n",
       "</tr>\n",
       "<tr>\n",
       "  <th>Date:</th>            <td>Wed, 12 Jun 2024</td> <th>  Deviance:          </th> <td>  2493.2</td>\n",
       "</tr>\n",
       "<tr>\n",
       "  <th>Time:</th>                <td>07:10:26</td>     <th>  Pearson chi2:      </th> <td>2.49e+03</td>\n",
       "</tr>\n",
       "<tr>\n",
       "  <th>No. Iterations:</th>          <td>3</td>        <th>  Pseudo R-squ. (CS):</th>  <td>0.2358</td> \n",
       "</tr>\n",
       "<tr>\n",
       "  <th>Covariance Type:</th>     <td>nonrobust</td>    <th>                     </th>     <td> </td>   \n",
       "</tr>\n",
       "</table>\n",
       "<table class=\"simpletable\">\n",
       "<tr>\n",
       "    <td></td>       <th>coef</th>     <th>std err</th>      <th>z</th>      <th>P>|z|</th>  <th>[0.025</th>    <th>0.975]</th>  \n",
       "</tr>\n",
       "<tr>\n",
       "  <th>const</th> <td>    0.2753</td> <td>    0.675</td> <td>    0.408</td> <td> 0.684</td> <td>   -1.048</td> <td>    1.599</td>\n",
       "</tr>\n",
       "<tr>\n",
       "  <th>x1</th>    <td>    2.0201</td> <td>    0.494</td> <td>    4.093</td> <td> 0.000</td> <td>    1.053</td> <td>    2.988</td>\n",
       "</tr>\n",
       "<tr>\n",
       "  <th>x2</th>    <td>    3.7787</td> <td>    1.032</td> <td>    3.661</td> <td> 0.000</td> <td>    1.756</td> <td>    5.801</td>\n",
       "</tr>\n",
       "</table>"
      ],
      "text/latex": [
       "\\begin{center}\n",
       "\\begin{tabular}{lclc}\n",
       "\\toprule\n",
       "\\textbf{Dep. Variable:}   &        y         & \\textbf{  No. Observations:  } &      100    \\\\\n",
       "\\textbf{Model:}           &     BayesGLM     & \\textbf{  Df Residuals:      } &       97    \\\\\n",
       "\\textbf{Model Family:}    &     Gaussian     & \\textbf{  Df Model:          } &        2    \\\\\n",
       "\\textbf{Link Function:}   &     Identity     & \\textbf{  Scale:             } &    25.703   \\\\\n",
       "\\textbf{Method:}          &      BIRLS       & \\textbf{  Log-Likelihood:    } &   -302.70   \\\\\n",
       "\\textbf{Date:}            & Wed, 12 Jun 2024 & \\textbf{  Deviance:          } &    2493.2   \\\\\n",
       "\\textbf{Time:}            &     07:10:26     & \\textbf{  Pearson chi2:      } &  2.49e+03   \\\\\n",
       "\\textbf{No. Iterations:}  &        3         & \\textbf{  Pseudo R-squ. (CS):} &   0.2358    \\\\\n",
       "\\textbf{Covariance Type:} &    nonrobust     & \\textbf{                     } &             \\\\\n",
       "\\bottomrule\n",
       "\\end{tabular}\n",
       "\\begin{tabular}{lcccccc}\n",
       "               & \\textbf{coef} & \\textbf{std err} & \\textbf{z} & \\textbf{P$> |$z$|$} & \\textbf{[0.025} & \\textbf{0.975]}  \\\\\n",
       "\\midrule\n",
       "\\textbf{const} &       0.2753  &        0.675     &     0.408  &         0.684        &       -1.048    &        1.599     \\\\\n",
       "\\textbf{x1}    &       2.0201  &        0.494     &     4.093  &         0.000        &        1.053    &        2.988     \\\\\n",
       "\\textbf{x2}    &       3.7787  &        1.032     &     3.661  &         0.000        &        1.756    &        5.801     \\\\\n",
       "\\bottomrule\n",
       "\\end{tabular}\n",
       "%\\caption{Generalized Linear Model Regression Results}\n",
       "\\end{center}"
      ],
      "text/plain": [
       "<class 'statsmodels.iolib.summary.Summary'>\n",
       "\"\"\"\n",
       "                 Generalized Linear Model Regression Results                  \n",
       "==============================================================================\n",
       "Dep. Variable:                      y   No. Observations:                  100\n",
       "Model:                       BayesGLM   Df Residuals:                       97\n",
       "Model Family:                Gaussian   Df Model:                            2\n",
       "Link Function:               Identity   Scale:                          25.703\n",
       "Method:                         BIRLS   Log-Likelihood:                -302.70\n",
       "Date:                Wed, 12 Jun 2024   Deviance:                       2493.2\n",
       "Time:                        07:10:26   Pearson chi2:                 2.49e+03\n",
       "No. Iterations:                     3   Pseudo R-squ. (CS):             0.2358\n",
       "Covariance Type:            nonrobust                                         \n",
       "==============================================================================\n",
       "                 coef    std err          z      P>|z|      [0.025      0.975]\n",
       "------------------------------------------------------------------------------\n",
       "const          0.2753      0.675      0.408      0.684      -1.048       1.599\n",
       "x1             2.0201      0.494      4.093      0.000       1.053       2.988\n",
       "x2             3.7787      1.032      3.661      0.000       1.756       5.801\n",
       "==============================================================================\n",
       "\"\"\""
      ]
     },
     "execution_count": 44,
     "metadata": {},
     "output_type": "execute_result"
    }
   ],
   "source": [
    "M7 = BayesGLM(endog=y2, exog=df.drop(columns=\"y\"), family=families.Gaussian()).fit(\n",
    "    prior_scale=np.inf, prior_df=np.inf\n",
    ")\n",
    "M7.summary()"
   ]
  },
  {
   "cell_type": "markdown",
   "metadata": {},
   "source": [
    "### bayesglm with categorical variables"
   ]
  },
  {
   "cell_type": "code",
   "execution_count": 45,
   "metadata": {},
   "outputs": [
    {
     "name": "stdout",
     "output_type": "stream",
     "text": [
      "[1] \"15\" \"16\" \"17\" \"18\"\n"
     ]
    }
   ],
   "source": [
    "%%R\n",
    "z1 <- trunc(runif(n, 4, 9))\n",
    "levels(factor(z1))\n",
    "z2 <- trunc(runif(n, 15, 19))\n",
    "levels(factor(z2))"
   ]
  },
  {
   "cell_type": "code",
   "execution_count": 46,
   "metadata": {},
   "outputs": [],
   "source": [
    "z1 = np.array(robjects.globalenv[\"z1\"])\n",
    "z2 = np.array(robjects.globalenv[\"z2\"])"
   ]
  },
  {
   "cell_type": "markdown",
   "metadata": {},
   "source": [
    "### Compare behavior M8"
   ]
  },
  {
   "cell_type": "code",
   "execution_count": 47,
   "metadata": {},
   "outputs": [
    {
     "name": "stdout",
     "output_type": "stream",
     "text": [
      "arm::bayesglm(formula = y ~ x1 + factor(z1) + factor(z2), family = binomial(link = \"logit\"), \n",
      "    prior.scale = 2.5, prior.df = Inf)\n",
      "             coef.est coef.se\n",
      "(Intercept)  -0.77     0.51  \n",
      "x1           -0.34     0.21  \n",
      "factor(z1)5   0.71     0.61  \n",
      "factor(z1)6   0.66     0.65  \n",
      "factor(z1)7   0.22     0.63  \n",
      "factor(z1)8   0.93     0.69  \n",
      "factor(z2)16  0.12     0.62  \n",
      "factor(z2)17 -0.18     0.55  \n",
      "factor(z2)18  0.24     0.59  \n",
      "---\n",
      "n = 100, k = 9\n",
      "residual deviance = 131.7, null deviance = 136.7 (difference = 5.0)\n"
     ]
    }
   ],
   "source": [
    "%%R\n",
    "## drop the base level (R default)\n",
    "M8 <- arm::bayesglm (y ~ x1 + factor(z1) + factor(z2),\n",
    "family=binomial(link=\"logit\"), prior.scale=2.5, prior.df=Inf)\n",
    "arm::display (M8)"
   ]
  },
  {
   "cell_type": "code",
   "execution_count": 48,
   "metadata": {},
   "outputs": [
    {
     "data": {
      "text/html": [
       "<div>\n",
       "<style scoped>\n",
       "    .dataframe tbody tr th:only-of-type {\n",
       "        vertical-align: middle;\n",
       "    }\n",
       "\n",
       "    .dataframe tbody tr th {\n",
       "        vertical-align: top;\n",
       "    }\n",
       "\n",
       "    .dataframe thead th {\n",
       "        text-align: right;\n",
       "    }\n",
       "</style>\n",
       "<table border=\"1\" class=\"dataframe\">\n",
       "  <thead>\n",
       "    <tr style=\"text-align: right;\">\n",
       "      <th></th>\n",
       "      <th>const</th>\n",
       "      <th>x1</th>\n",
       "      <th>5.0</th>\n",
       "      <th>6.0</th>\n",
       "      <th>7.0</th>\n",
       "      <th>8.0</th>\n",
       "      <th>16.0</th>\n",
       "      <th>17.0</th>\n",
       "      <th>18.0</th>\n",
       "    </tr>\n",
       "  </thead>\n",
       "  <tbody>\n",
       "    <tr>\n",
       "      <th>0</th>\n",
       "      <td>1.0</td>\n",
       "      <td>-0.204708</td>\n",
       "      <td>0.0</td>\n",
       "      <td>0.0</td>\n",
       "      <td>0.0</td>\n",
       "      <td>0.0</td>\n",
       "      <td>1.0</td>\n",
       "      <td>0.0</td>\n",
       "      <td>0.0</td>\n",
       "    </tr>\n",
       "    <tr>\n",
       "      <th>1</th>\n",
       "      <td>1.0</td>\n",
       "      <td>0.478943</td>\n",
       "      <td>1.0</td>\n",
       "      <td>0.0</td>\n",
       "      <td>0.0</td>\n",
       "      <td>0.0</td>\n",
       "      <td>0.0</td>\n",
       "      <td>0.0</td>\n",
       "      <td>0.0</td>\n",
       "    </tr>\n",
       "    <tr>\n",
       "      <th>2</th>\n",
       "      <td>1.0</td>\n",
       "      <td>-0.519439</td>\n",
       "      <td>0.0</td>\n",
       "      <td>0.0</td>\n",
       "      <td>1.0</td>\n",
       "      <td>0.0</td>\n",
       "      <td>1.0</td>\n",
       "      <td>0.0</td>\n",
       "      <td>0.0</td>\n",
       "    </tr>\n",
       "    <tr>\n",
       "      <th>3</th>\n",
       "      <td>1.0</td>\n",
       "      <td>-0.555730</td>\n",
       "      <td>0.0</td>\n",
       "      <td>0.0</td>\n",
       "      <td>0.0</td>\n",
       "      <td>0.0</td>\n",
       "      <td>0.0</td>\n",
       "      <td>0.0</td>\n",
       "      <td>0.0</td>\n",
       "    </tr>\n",
       "    <tr>\n",
       "      <th>4</th>\n",
       "      <td>1.0</td>\n",
       "      <td>1.965781</td>\n",
       "      <td>0.0</td>\n",
       "      <td>0.0</td>\n",
       "      <td>1.0</td>\n",
       "      <td>0.0</td>\n",
       "      <td>0.0</td>\n",
       "      <td>0.0</td>\n",
       "      <td>0.0</td>\n",
       "    </tr>\n",
       "  </tbody>\n",
       "</table>\n",
       "</div>"
      ],
      "text/plain": [
       "   const        x1  5.0  6.0  7.0  8.0  16.0  17.0  18.0\n",
       "0    1.0 -0.204708  0.0  0.0  0.0  0.0   1.0   0.0   0.0\n",
       "1    1.0  0.478943  1.0  0.0  0.0  0.0   0.0   0.0   0.0\n",
       "2    1.0 -0.519439  0.0  0.0  1.0  0.0   1.0   0.0   0.0\n",
       "3    1.0 -0.555730  0.0  0.0  0.0  0.0   0.0   0.0   0.0\n",
       "4    1.0  1.965781  0.0  0.0  1.0  0.0   0.0   0.0   0.0"
      ]
     },
     "execution_count": 48,
     "metadata": {},
     "output_type": "execute_result"
    }
   ],
   "source": [
    "df2 = pd.concat(\n",
    "    [\n",
    "        pd.Series(const, name=\"const\"),\n",
    "        pd.Series(x1, name=\"x1\"),\n",
    "        pd.get_dummies(z1, drop_first=True),\n",
    "        pd.get_dummies(z2, drop_first=True),\n",
    "    ],\n",
    "    axis=1,\n",
    ").astype(float)\n",
    "df2.head()"
   ]
  },
  {
   "cell_type": "code",
   "execution_count": 49,
   "metadata": {},
   "outputs": [
    {
     "data": {
      "text/html": [
       "<table class=\"simpletable\">\n",
       "<caption>Generalized Linear Model Regression Results</caption>\n",
       "<tr>\n",
       "  <th>Dep. Variable:</th>           <td>y</td>        <th>  No. Observations:  </th>  <td>   100</td> \n",
       "</tr>\n",
       "<tr>\n",
       "  <th>Model:</th>               <td>BayesGLM</td>     <th>  Df Residuals:      </th>  <td>    91</td> \n",
       "</tr>\n",
       "<tr>\n",
       "  <th>Model Family:</th>        <td>Binomial</td>     <th>  Df Model:          </th>  <td>     8</td> \n",
       "</tr>\n",
       "<tr>\n",
       "  <th>Link Function:</th>         <td>Logit</td>      <th>  Scale:             </th> <td>  1.0000</td>\n",
       "</tr>\n",
       "<tr>\n",
       "  <th>Method:</th>                <td>BIRLS</td>      <th>  Log-Likelihood:    </th> <td> -65.848</td>\n",
       "</tr>\n",
       "<tr>\n",
       "  <th>Date:</th>            <td>Wed, 12 Jun 2024</td> <th>  Deviance:          </th> <td>  131.70</td>\n",
       "</tr>\n",
       "<tr>\n",
       "  <th>Time:</th>                <td>07:10:26</td>     <th>  Pearson chi2:      </th>  <td>  99.3</td> \n",
       "</tr>\n",
       "<tr>\n",
       "  <th>No. Iterations:</th>          <td>5</td>        <th>  Pseudo R-squ. (CS):</th>  <td>0.04846</td>\n",
       "</tr>\n",
       "<tr>\n",
       "  <th>Covariance Type:</th>     <td>nonrobust</td>    <th>                     </th>     <td> </td>   \n",
       "</tr>\n",
       "</table>\n",
       "<table class=\"simpletable\">\n",
       "<tr>\n",
       "    <td></td>       <th>coef</th>     <th>std err</th>      <th>z</th>      <th>P>|z|</th>  <th>[0.025</th>    <th>0.975]</th>  \n",
       "</tr>\n",
       "<tr>\n",
       "  <th>const</th> <td>   -0.7731</td> <td>    0.510</td> <td>   -1.517</td> <td> 0.129</td> <td>   -1.772</td> <td>    0.226</td>\n",
       "</tr>\n",
       "<tr>\n",
       "  <th>x1</th>    <td>   -0.3385</td> <td>    0.210</td> <td>   -1.609</td> <td> 0.108</td> <td>   -0.751</td> <td>    0.074</td>\n",
       "</tr>\n",
       "<tr>\n",
       "  <th>5.0</th>   <td>    0.7052</td> <td>    0.605</td> <td>    1.166</td> <td> 0.244</td> <td>   -0.481</td> <td>    1.891</td>\n",
       "</tr>\n",
       "<tr>\n",
       "  <th>6.0</th>   <td>    0.6554</td> <td>    0.653</td> <td>    1.004</td> <td> 0.316</td> <td>   -0.625</td> <td>    1.935</td>\n",
       "</tr>\n",
       "<tr>\n",
       "  <th>7.0</th>   <td>    0.2210</td> <td>    0.635</td> <td>    0.348</td> <td> 0.728</td> <td>   -1.023</td> <td>    1.465</td>\n",
       "</tr>\n",
       "<tr>\n",
       "  <th>8.0</th>   <td>    0.9332</td> <td>    0.685</td> <td>    1.362</td> <td> 0.173</td> <td>   -0.410</td> <td>    2.276</td>\n",
       "</tr>\n",
       "<tr>\n",
       "  <th>16.0</th>  <td>    0.1201</td> <td>    0.625</td> <td>    0.192</td> <td> 0.848</td> <td>   -1.105</td> <td>    1.345</td>\n",
       "</tr>\n",
       "<tr>\n",
       "  <th>17.0</th>  <td>   -0.1779</td> <td>    0.551</td> <td>   -0.323</td> <td> 0.747</td> <td>   -1.257</td> <td>    0.901</td>\n",
       "</tr>\n",
       "<tr>\n",
       "  <th>18.0</th>  <td>    0.2414</td> <td>    0.590</td> <td>    0.409</td> <td> 0.682</td> <td>   -0.914</td> <td>    1.397</td>\n",
       "</tr>\n",
       "</table>"
      ],
      "text/latex": [
       "\\begin{center}\n",
       "\\begin{tabular}{lclc}\n",
       "\\toprule\n",
       "\\textbf{Dep. Variable:}   &        y         & \\textbf{  No. Observations:  } &      100    \\\\\n",
       "\\textbf{Model:}           &     BayesGLM     & \\textbf{  Df Residuals:      } &       91    \\\\\n",
       "\\textbf{Model Family:}    &     Binomial     & \\textbf{  Df Model:          } &        8    \\\\\n",
       "\\textbf{Link Function:}   &      Logit       & \\textbf{  Scale:             } &    1.0000   \\\\\n",
       "\\textbf{Method:}          &      BIRLS       & \\textbf{  Log-Likelihood:    } &   -65.848   \\\\\n",
       "\\textbf{Date:}            & Wed, 12 Jun 2024 & \\textbf{  Deviance:          } &    131.70   \\\\\n",
       "\\textbf{Time:}            &     07:10:26     & \\textbf{  Pearson chi2:      } &     99.3    \\\\\n",
       "\\textbf{No. Iterations:}  &        5         & \\textbf{  Pseudo R-squ. (CS):} &  0.04846    \\\\\n",
       "\\textbf{Covariance Type:} &    nonrobust     & \\textbf{                     } &             \\\\\n",
       "\\bottomrule\n",
       "\\end{tabular}\n",
       "\\begin{tabular}{lcccccc}\n",
       "               & \\textbf{coef} & \\textbf{std err} & \\textbf{z} & \\textbf{P$> |$z$|$} & \\textbf{[0.025} & \\textbf{0.975]}  \\\\\n",
       "\\midrule\n",
       "\\textbf{const} &      -0.7731  &        0.510     &    -1.517  &         0.129        &       -1.772    &        0.226     \\\\\n",
       "\\textbf{x1}    &      -0.3385  &        0.210     &    -1.609  &         0.108        &       -0.751    &        0.074     \\\\\n",
       "\\textbf{5.0}   &       0.7052  &        0.605     &     1.166  &         0.244        &       -0.481    &        1.891     \\\\\n",
       "\\textbf{6.0}   &       0.6554  &        0.653     &     1.004  &         0.316        &       -0.625    &        1.935     \\\\\n",
       "\\textbf{7.0}   &       0.2210  &        0.635     &     0.348  &         0.728        &       -1.023    &        1.465     \\\\\n",
       "\\textbf{8.0}   &       0.9332  &        0.685     &     1.362  &         0.173        &       -0.410    &        2.276     \\\\\n",
       "\\textbf{16.0}  &       0.1201  &        0.625     &     0.192  &         0.848        &       -1.105    &        1.345     \\\\\n",
       "\\textbf{17.0}  &      -0.1779  &        0.551     &    -0.323  &         0.747        &       -1.257    &        0.901     \\\\\n",
       "\\textbf{18.0}  &       0.2414  &        0.590     &     0.409  &         0.682        &       -0.914    &        1.397     \\\\\n",
       "\\bottomrule\n",
       "\\end{tabular}\n",
       "%\\caption{Generalized Linear Model Regression Results}\n",
       "\\end{center}"
      ],
      "text/plain": [
       "<class 'statsmodels.iolib.summary.Summary'>\n",
       "\"\"\"\n",
       "                 Generalized Linear Model Regression Results                  \n",
       "==============================================================================\n",
       "Dep. Variable:                      y   No. Observations:                  100\n",
       "Model:                       BayesGLM   Df Residuals:                       91\n",
       "Model Family:                Binomial   Df Model:                            8\n",
       "Link Function:                  Logit   Scale:                          1.0000\n",
       "Method:                         BIRLS   Log-Likelihood:                -65.848\n",
       "Date:                Wed, 12 Jun 2024   Deviance:                       131.70\n",
       "Time:                        07:10:26   Pearson chi2:                     99.3\n",
       "No. Iterations:                     5   Pseudo R-squ. (CS):            0.04846\n",
       "Covariance Type:            nonrobust                                         \n",
       "==============================================================================\n",
       "                 coef    std err          z      P>|z|      [0.025      0.975]\n",
       "------------------------------------------------------------------------------\n",
       "const         -0.7731      0.510     -1.517      0.129      -1.772       0.226\n",
       "x1            -0.3385      0.210     -1.609      0.108      -0.751       0.074\n",
       "5.0            0.7052      0.605      1.166      0.244      -0.481       1.891\n",
       "6.0            0.6554      0.653      1.004      0.316      -0.625       1.935\n",
       "7.0            0.2210      0.635      0.348      0.728      -1.023       1.465\n",
       "8.0            0.9332      0.685      1.362      0.173      -0.410       2.276\n",
       "16.0           0.1201      0.625      0.192      0.848      -1.105       1.345\n",
       "17.0          -0.1779      0.551     -0.323      0.747      -1.257       0.901\n",
       "18.0           0.2414      0.590      0.409      0.682      -0.914       1.397\n",
       "==============================================================================\n",
       "\"\"\""
      ]
     },
     "execution_count": 49,
     "metadata": {},
     "output_type": "execute_result"
    }
   ],
   "source": [
    "M8 = BayesGLM(endog=y, exog=df2, family=families.Binomial()).fit(\n",
    "    prior_scale=2.5, prior_df=np.inf\n",
    ")\n",
    "M8.summary()"
   ]
  },
  {
   "cell_type": "markdown",
   "metadata": {},
   "source": [
    "There are two more examples given in the documentation, but they're tedious to replicate within the limitation of rpy2 behavior."
   ]
  }
 ],
 "metadata": {
  "kernelspec": {
   "display_name": ".venv",
   "language": "python",
   "name": "python3"
  },
  "language_info": {
   "codemirror_mode": {
    "name": "ipython",
    "version": 3
   },
   "file_extension": ".py",
   "mimetype": "text/x-python",
   "name": "python",
   "nbconvert_exporter": "python",
   "pygments_lexer": "ipython3",
   "version": "3.8.10"
  }
 },
 "nbformat": 4,
 "nbformat_minor": 2
}
